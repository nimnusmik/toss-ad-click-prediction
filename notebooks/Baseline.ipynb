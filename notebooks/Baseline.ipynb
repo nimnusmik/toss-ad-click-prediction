{
 "cells": [
  {
   "cell_type": "markdown",
   "id": "20abd96a-4eb5-483d-b3d9-32e1c1340ece",
   "metadata": {},
   "source": [
    "## Import"
   ]
  },
  {
   "cell_type": "code",
   "execution_count": 15,
   "id": "6f857651",
   "metadata": {},
   "outputs": [
    {
     "name": "stdout",
     "output_type": "stream",
     "text": [
      "Requirement already satisfied: pandas in /root/toss-ad-click-prediction/toss-ml-venv/lib/python3.10/site-packages (from -r ../requirements.txt (line 1)) (2.3.2)\n",
      "Requirement already satisfied: scikit-learn in /root/toss-ad-click-prediction/toss-ml-venv/lib/python3.10/site-packages (from -r ../requirements.txt (line 2)) (1.7.2)\n",
      "Requirement already satisfied: tqdm in /root/toss-ad-click-prediction/toss-ml-venv/lib/python3.10/site-packages (from -r ../requirements.txt (line 3)) (4.67.1)\n",
      "Requirement already satisfied: torch in /root/toss-ad-click-prediction/toss-ml-venv/lib/python3.10/site-packages (from -r ../requirements.txt (line 4)) (2.8.0)\n",
      "Requirement already satisfied: seaborn in /root/toss-ad-click-prediction/toss-ml-venv/lib/python3.10/site-packages (from -r ../requirements.txt (line 5)) (0.13.2)\n",
      "Requirement already satisfied: pyarrow in /root/toss-ad-click-prediction/toss-ml-venv/lib/python3.10/site-packages (from -r ../requirements.txt (line 6)) (21.0.0)\n",
      "Requirement already satisfied: fastparquet in /root/toss-ad-click-prediction/toss-ml-venv/lib/python3.10/site-packages (from -r ../requirements.txt (line 7)) (2024.11.0)\n",
      "Requirement already satisfied: polars in /root/toss-ad-click-prediction/toss-ml-venv/lib/python3.10/site-packages (from -r ../requirements.txt (line 8)) (1.33.1)\n",
      "Requirement already satisfied: tzdata>=2022.7 in /root/toss-ad-click-prediction/toss-ml-venv/lib/python3.10/site-packages (from pandas->-r ../requirements.txt (line 1)) (2025.2)\n",
      "Requirement already satisfied: python-dateutil>=2.8.2 in /root/toss-ad-click-prediction/toss-ml-venv/lib/python3.10/site-packages (from pandas->-r ../requirements.txt (line 1)) (2.9.0.post0)\n",
      "Requirement already satisfied: pytz>=2020.1 in /root/toss-ad-click-prediction/toss-ml-venv/lib/python3.10/site-packages (from pandas->-r ../requirements.txt (line 1)) (2025.2)\n",
      "Requirement already satisfied: numpy>=1.22.4 in /root/toss-ad-click-prediction/toss-ml-venv/lib/python3.10/site-packages (from pandas->-r ../requirements.txt (line 1)) (2.2.6)\n",
      "Requirement already satisfied: threadpoolctl>=3.1.0 in /root/toss-ad-click-prediction/toss-ml-venv/lib/python3.10/site-packages (from scikit-learn->-r ../requirements.txt (line 2)) (3.6.0)\n",
      "Requirement already satisfied: joblib>=1.2.0 in /root/toss-ad-click-prediction/toss-ml-venv/lib/python3.10/site-packages (from scikit-learn->-r ../requirements.txt (line 2)) (1.5.2)\n",
      "Requirement already satisfied: scipy>=1.8.0 in /root/toss-ad-click-prediction/toss-ml-venv/lib/python3.10/site-packages (from scikit-learn->-r ../requirements.txt (line 2)) (1.15.3)\n",
      "Requirement already satisfied: nvidia-cufft-cu12==11.3.3.83 in /root/toss-ad-click-prediction/toss-ml-venv/lib/python3.10/site-packages (from torch->-r ../requirements.txt (line 4)) (11.3.3.83)\n",
      "Requirement already satisfied: typing-extensions>=4.10.0 in /root/toss-ad-click-prediction/toss-ml-venv/lib/python3.10/site-packages (from torch->-r ../requirements.txt (line 4)) (4.15.0)\n",
      "Requirement already satisfied: nvidia-cusolver-cu12==11.7.3.90 in /root/toss-ad-click-prediction/toss-ml-venv/lib/python3.10/site-packages (from torch->-r ../requirements.txt (line 4)) (11.7.3.90)\n",
      "Requirement already satisfied: nvidia-cuda-nvrtc-cu12==12.8.93 in /root/toss-ad-click-prediction/toss-ml-venv/lib/python3.10/site-packages (from torch->-r ../requirements.txt (line 4)) (12.8.93)\n",
      "Requirement already satisfied: filelock in /root/toss-ad-click-prediction/toss-ml-venv/lib/python3.10/site-packages (from torch->-r ../requirements.txt (line 4)) (3.19.1)\n",
      "Requirement already satisfied: sympy>=1.13.3 in /root/toss-ad-click-prediction/toss-ml-venv/lib/python3.10/site-packages (from torch->-r ../requirements.txt (line 4)) (1.14.0)\n",
      "Requirement already satisfied: nvidia-cuda-cupti-cu12==12.8.90 in /root/toss-ad-click-prediction/toss-ml-venv/lib/python3.10/site-packages (from torch->-r ../requirements.txt (line 4)) (12.8.90)\n",
      "Requirement already satisfied: triton==3.4.0 in /root/toss-ad-click-prediction/toss-ml-venv/lib/python3.10/site-packages (from torch->-r ../requirements.txt (line 4)) (3.4.0)\n",
      "Requirement already satisfied: nvidia-nccl-cu12==2.27.3 in /root/toss-ad-click-prediction/toss-ml-venv/lib/python3.10/site-packages (from torch->-r ../requirements.txt (line 4)) (2.27.3)\n",
      "Requirement already satisfied: nvidia-cudnn-cu12==9.10.2.21 in /root/toss-ad-click-prediction/toss-ml-venv/lib/python3.10/site-packages (from torch->-r ../requirements.txt (line 4)) (9.10.2.21)\n",
      "Requirement already satisfied: networkx in /root/toss-ad-click-prediction/toss-ml-venv/lib/python3.10/site-packages (from torch->-r ../requirements.txt (line 4)) (3.4.2)\n",
      "Requirement already satisfied: nvidia-cuda-runtime-cu12==12.8.90 in /root/toss-ad-click-prediction/toss-ml-venv/lib/python3.10/site-packages (from torch->-r ../requirements.txt (line 4)) (12.8.90)\n",
      "Requirement already satisfied: nvidia-cusparselt-cu12==0.7.1 in /root/toss-ad-click-prediction/toss-ml-venv/lib/python3.10/site-packages (from torch->-r ../requirements.txt (line 4)) (0.7.1)\n",
      "Requirement already satisfied: nvidia-curand-cu12==10.3.9.90 in /root/toss-ad-click-prediction/toss-ml-venv/lib/python3.10/site-packages (from torch->-r ../requirements.txt (line 4)) (10.3.9.90)\n",
      "Requirement already satisfied: nvidia-cusparse-cu12==12.5.8.93 in /root/toss-ad-click-prediction/toss-ml-venv/lib/python3.10/site-packages (from torch->-r ../requirements.txt (line 4)) (12.5.8.93)\n",
      "Requirement already satisfied: jinja2 in /root/toss-ad-click-prediction/toss-ml-venv/lib/python3.10/site-packages (from torch->-r ../requirements.txt (line 4)) (3.1.6)\n",
      "Requirement already satisfied: nvidia-nvtx-cu12==12.8.90 in /root/toss-ad-click-prediction/toss-ml-venv/lib/python3.10/site-packages (from torch->-r ../requirements.txt (line 4)) (12.8.90)\n",
      "Requirement already satisfied: nvidia-nvjitlink-cu12==12.8.93 in /root/toss-ad-click-prediction/toss-ml-venv/lib/python3.10/site-packages (from torch->-r ../requirements.txt (line 4)) (12.8.93)\n",
      "Requirement already satisfied: nvidia-cufile-cu12==1.13.1.3 in /root/toss-ad-click-prediction/toss-ml-venv/lib/python3.10/site-packages (from torch->-r ../requirements.txt (line 4)) (1.13.1.3)\n",
      "Requirement already satisfied: fsspec in /root/toss-ad-click-prediction/toss-ml-venv/lib/python3.10/site-packages (from torch->-r ../requirements.txt (line 4)) (2025.9.0)\n",
      "Requirement already satisfied: nvidia-cublas-cu12==12.8.4.1 in /root/toss-ad-click-prediction/toss-ml-venv/lib/python3.10/site-packages (from torch->-r ../requirements.txt (line 4)) (12.8.4.1)\n",
      "Requirement already satisfied: setuptools>=40.8.0 in /root/toss-ad-click-prediction/toss-ml-venv/lib/python3.10/site-packages (from triton==3.4.0->torch->-r ../requirements.txt (line 4)) (65.5.0)\n",
      "Requirement already satisfied: matplotlib!=3.6.1,>=3.4 in /root/toss-ad-click-prediction/toss-ml-venv/lib/python3.10/site-packages (from seaborn->-r ../requirements.txt (line 5)) (3.10.6)\n",
      "Requirement already satisfied: cramjam>=2.3 in /root/toss-ad-click-prediction/toss-ml-venv/lib/python3.10/site-packages (from fastparquet->-r ../requirements.txt (line 7)) (2.11.0)\n",
      "Requirement already satisfied: packaging in /root/toss-ad-click-prediction/toss-ml-venv/lib/python3.10/site-packages (from fastparquet->-r ../requirements.txt (line 7)) (25.0)\n",
      "Requirement already satisfied: cycler>=0.10 in /root/toss-ad-click-prediction/toss-ml-venv/lib/python3.10/site-packages (from matplotlib!=3.6.1,>=3.4->seaborn->-r ../requirements.txt (line 5)) (0.12.1)\n",
      "Requirement already satisfied: fonttools>=4.22.0 in /root/toss-ad-click-prediction/toss-ml-venv/lib/python3.10/site-packages (from matplotlib!=3.6.1,>=3.4->seaborn->-r ../requirements.txt (line 5)) (4.59.2)\n",
      "Requirement already satisfied: kiwisolver>=1.3.1 in /root/toss-ad-click-prediction/toss-ml-venv/lib/python3.10/site-packages (from matplotlib!=3.6.1,>=3.4->seaborn->-r ../requirements.txt (line 5)) (1.4.9)\n",
      "Requirement already satisfied: pillow>=8 in /root/toss-ad-click-prediction/toss-ml-venv/lib/python3.10/site-packages (from matplotlib!=3.6.1,>=3.4->seaborn->-r ../requirements.txt (line 5)) (11.3.0)\n",
      "Requirement already satisfied: pyparsing>=2.3.1 in /root/toss-ad-click-prediction/toss-ml-venv/lib/python3.10/site-packages (from matplotlib!=3.6.1,>=3.4->seaborn->-r ../requirements.txt (line 5)) (3.2.4)\n",
      "Requirement already satisfied: contourpy>=1.0.1 in /root/toss-ad-click-prediction/toss-ml-venv/lib/python3.10/site-packages (from matplotlib!=3.6.1,>=3.4->seaborn->-r ../requirements.txt (line 5)) (1.3.2)\n",
      "Requirement already satisfied: six>=1.5 in /root/toss-ad-click-prediction/toss-ml-venv/lib/python3.10/site-packages (from python-dateutil>=2.8.2->pandas->-r ../requirements.txt (line 1)) (1.17.0)\n",
      "Requirement already satisfied: mpmath<1.4,>=1.1.0 in /root/toss-ad-click-prediction/toss-ml-venv/lib/python3.10/site-packages (from sympy>=1.13.3->torch->-r ../requirements.txt (line 4)) (1.3.0)\n",
      "Requirement already satisfied: MarkupSafe>=2.0 in /root/toss-ad-click-prediction/toss-ml-venv/lib/python3.10/site-packages (from jinja2->torch->-r ../requirements.txt (line 4)) (3.0.2)\n",
      "\n",
      "\u001b[1m[\u001b[0m\u001b[34;49mnotice\u001b[0m\u001b[1;39;49m]\u001b[0m\u001b[39;49m A new release of pip is available: \u001b[0m\u001b[31;49m23.0.1\u001b[0m\u001b[39;49m -> \u001b[0m\u001b[32;49m25.2\u001b[0m\n",
      "\u001b[1m[\u001b[0m\u001b[34;49mnotice\u001b[0m\u001b[1;39;49m]\u001b[0m\u001b[39;49m To update, run: \u001b[0m\u001b[32;49mpip install --upgrade pip\u001b[0m\n"
     ]
    }
   ],
   "source": [
    "!pip install -r \"../requirements.txt\""
   ]
  },
  {
   "cell_type": "code",
   "execution_count": 16,
   "id": "a593bbe1-b8a5-4a40-b46f-4ff25f132b86",
   "metadata": {},
   "outputs": [],
   "source": [
    "import pandas as pd\n",
    "import numpy as np\n",
    "import os\n",
    "import random\n",
    "\n",
    "from sklearn.model_selection import train_test_split\n",
    "from tqdm import tqdm\n",
    "\n",
    "import torch\n",
    "import torch.nn as nn\n",
    "import torch.nn.functional as F\n",
    "import torch.optim as optim\n",
    "from torch.utils.data import Dataset, DataLoader, random_split"
   ]
  },
  {
   "cell_type": "markdown",
   "id": "7d1e7a28-1d18-40a7-9d19-1dcdab7537ec",
   "metadata": {},
   "source": [
    "## Setting"
   ]
  },
  {
   "cell_type": "markdown",
   "id": "a5152c50",
   "metadata": {},
   "source": []
  },
  {
   "cell_type": "code",
   "execution_count": 17,
   "id": "d13d5928-880f-4b88-8dfa-dc791e930001",
   "metadata": {},
   "outputs": [],
   "source": [
    "CFG = {\n",
    "    'BATCH_SIZE': 4096,\n",
    "    'EPOCHS': 20,\n",
    "    'LEARNING_RATE': 1e-3,\n",
    "    'SEED' : 42\n",
    "}\n",
    "device = \"cuda\" if torch.cuda.is_available() else \"cpu\""
   ]
  },
  {
   "cell_type": "code",
   "execution_count": 18,
   "id": "99aa02da-d89b-4a18-8344-261a413bac83",
   "metadata": {},
   "outputs": [],
   "source": [
    "def seed_everything(seed):\n",
    "    random.seed(seed)\n",
    "    os.environ['PYTHONHASHSEED'] = str(seed)\n",
    "    np.random.seed(seed)\n",
    "    torch.manual_seed(seed)\n",
    "    torch.cuda.manual_seed(seed)\n",
    "    torch.backends.cudnn.deterministic = True\n",
    "    torch.backends.cudnn.benchmark = False\n",
    "\n",
    "seed_everything(CFG['SEED']) # Seed 고정"
   ]
  },
  {
   "cell_type": "markdown",
   "id": "6421efbe-70c6-4aeb-946c-be1556e7743d",
   "metadata": {},
   "source": [
    "## Data Load"
   ]
  },
  {
   "cell_type": "code",
   "execution_count": 19,
   "id": "79610952",
   "metadata": {},
   "outputs": [
    {
     "name": "stdout",
     "output_type": "stream",
     "text": [
      "Train shape: (10685581, 44)\n",
      "Test shape: (1526192, 44)\n"
     ]
    }
   ],
   "source": [
    "import polars as pl\n",
    "\n",
    "all_train = pl.read_parquet(\"../data/processed/train_processed.parquet\")\n",
    "test = pl.read_parquet(\"../data/processed/test_processed.parquet\")\n",
    "\n",
    "print(\"Train shape:\", all_train.shape)\n",
    "print(\"Test shape:\", test.shape)"
   ]
  },
  {
   "cell_type": "markdown",
   "id": "66816b21",
   "metadata": {},
   "source": []
  },
  {
   "cell_type": "code",
   "execution_count": 20,
   "id": "0154cbe8-5c69-4d1a-95a6-5f834fc7ab4d",
   "metadata": {},
   "outputs": [],
   "source": [
    "# 데이터 로드\n",
    "#all_train = pd.read_parquet(\"../data/raw/train.parquet\", engine=\"pyarrow\")\n",
    "#test = pd.read_parquet(\"../data/raw/test.parquet\", engine=\"pyarrow\").drop(columns=['ID'])\n",
    "\n",
    "#print(\"Train shape:\", all_train.shape)\n",
    "#print(\"Test shape:\", test.shape)"
   ]
  },
  {
   "cell_type": "markdown",
   "id": "5cb80e25-5b02-43da-aa4f-5ca16cd7802e",
   "metadata": {},
   "source": [
    "## Data Down-Sampling"
   ]
  },
  {
   "cell_type": "code",
   "execution_count": 21,
   "id": "54c0b5e0-7fd7-4c4a-bc80-6a3428204784",
   "metadata": {},
   "outputs": [],
   "source": [
    "\n",
    "# Polars 방식으로 데이터 필터링 및 샘플링\n",
    "# filter() 메서드를 사용해 조건에 맞는 데이터 추출\n",
    "clicked_1 = all_train.filter(pl.col('clicked') == 1)\n",
    "\n",
    "# clicked == 0 데이터에서 샘플링\n",
    "# Polars의 sample() 메서드 사용 (pandas와 매개변수명이 다름)\n",
    "clicked_0 = all_train.filter(pl.col('clicked') == 0).sample(\n",
    "    n=len(clicked_1) * 2,  # 샘플 개수 지정\n",
    "    seed=42  # random_state 대신 seed 사용\n",
    ")\n",
    "\n",
    "# 두 데이터프레임 합치기\n",
    "# pl.concat()으로 데이터프레임 연결 후 샘플링으로 셔플\n",
    "train = pl.concat([clicked_1, clicked_0]).sample(\n",
    "    fraction=1.0,  # frac 대신 fraction 사용\n",
    "    seed=42\n",
    ")"
   ]
  },
  {
   "cell_type": "code",
   "execution_count": 22,
   "id": "151fc664-faa0-4951-bbbb-8b92f1ee3bff",
   "metadata": {},
   "outputs": [
    {
     "name": "stdout",
     "output_type": "stream",
     "text": [
      "Train shape: (610989, 44)\n",
      "Train clicked:0: (407326, 44)\n",
      "Train clicked:1: (203663, 44)\n"
     ]
    }
   ],
   "source": [
    "train_pd = train.to_pandas()\n",
    "\n",
    "train = train_pd.copy()\n",
    "print(\"Train shape:\", train.shape)\n",
    "print(\"Train clicked:0:\", train[train['clicked']==0].shape)\n",
    "print(\"Train clicked:1:\", train[train['clicked']==1].shape)"
   ]
  },
  {
   "cell_type": "markdown",
   "id": "c188a0d4-f60a-422c-bb53-ae8eba8744d6",
   "metadata": {},
   "source": [
    "## Data Column Setting"
   ]
  },
  {
   "cell_type": "code",
   "execution_count": 23,
   "id": "c7ecc473-4bd8-4304-9d68-a5c01f4bbe11",
   "metadata": {},
   "outputs": [
    {
     "name": "stdout",
     "output_type": "stream",
     "text": [
      "Num features: 42\n",
      "Sequence: seq\n",
      "Target: clicked\n"
     ]
    }
   ],
   "source": [
    "# Target / Sequence\n",
    "target_col = \"clicked\"\n",
    "seq_col = \"seq\"\n",
    "\n",
    "# 학습에 사용할 피처: ID/seq/target 제외, 나머지 전부\n",
    "FEATURE_EXCLUDE = {target_col, seq_col, \"ID\"}\n",
    "feature_cols = [c for c in train.columns if c not in FEATURE_EXCLUDE]\n",
    "\n",
    "print(\"Num features:\", len(feature_cols))\n",
    "print(\"Sequence:\", seq_col)\n",
    "print(\"Target:\", target_col)"
   ]
  },
  {
   "cell_type": "markdown",
   "id": "426899fa-b4f3-480d-b7de-8d7e811ad4f8",
   "metadata": {},
   "source": [
    "## Define Custom Dataset"
   ]
  },
  {
   "cell_type": "code",
   "execution_count": 24,
   "id": "c3c0b13b-3a81-4a2e-a753-1f9d8aa467ea",
   "metadata": {},
   "outputs": [],
   "source": [
    "class ClickDataset(Dataset):\n",
    "    def __init__(self, df, feature_cols, seq_col, target_col=None, has_target=True):\n",
    "        self.df = df.reset_index(drop=True)\n",
    "        self.feature_cols = feature_cols\n",
    "        self.seq_col = seq_col\n",
    "        self.target_col = target_col\n",
    "        self.has_target = has_target\n",
    "\n",
    "        # 비-시퀀스 피처: 전부 연속값으로\n",
    "        self.X = self.df[self.feature_cols].astype(float).fillna(0).values\n",
    "\n",
    "        # 시퀀스: 문자열 그대로 보관 (lazy 파싱)\n",
    "        self.seq_strings = self.df[self.seq_col].astype(str).values\n",
    "\n",
    "        if self.has_target:\n",
    "            self.y = self.df[self.target_col].astype(np.float32).values\n",
    "\n",
    "    def __len__(self):\n",
    "        return len(self.df)\n",
    "\n",
    "    def __getitem__(self, idx):\n",
    "        x = torch.tensor(self.X[idx], dtype=torch.float)\n",
    "\n",
    "        # 전체 시퀀스 사용 (빈 시퀀스만 방어)\n",
    "        s = self.seq_strings[idx]\n",
    "        if s:\n",
    "            arr = np.fromstring(s, sep=\",\", dtype=np.float32)\n",
    "        else:\n",
    "            arr = np.array([], dtype=np.float32)\n",
    "\n",
    "        if arr.size == 0:\n",
    "            arr = np.array([0.0], dtype=np.float32)  # 빈 시퀀스 방어\n",
    "\n",
    "        seq = torch.from_numpy(arr)  # shape (seq_len,)\n",
    "\n",
    "        if self.has_target:\n",
    "            y = torch.tensor(self.y[idx], dtype=torch.float)\n",
    "            return x, seq, y\n",
    "        else:\n",
    "            return x, seq"
   ]
  },
  {
   "cell_type": "code",
   "execution_count": 25,
   "id": "7b95f1cd-e8e8-4420-ad26-c639e36e472f",
   "metadata": {},
   "outputs": [],
   "source": [
    "def collate_fn_train(batch):\n",
    "    xs, seqs, ys = zip(*batch)\n",
    "    xs = torch.stack(xs)\n",
    "    ys = torch.stack(ys)\n",
    "    seqs_padded = nn.utils.rnn.pad_sequence(seqs, batch_first=True, padding_value=0.0)\n",
    "    seq_lengths = torch.tensor([len(s) for s in seqs], dtype=torch.long)\n",
    "    seq_lengths = torch.clamp(seq_lengths, min=1)  # 빈 시퀀스 방지\n",
    "    return xs, seqs_padded, seq_lengths, ys\n",
    "\n",
    "def collate_fn_infer(batch):\n",
    "    xs, seqs = zip(*batch)\n",
    "    xs = torch.stack(xs)\n",
    "    seqs_padded = nn.utils.rnn.pad_sequence(seqs, batch_first=True, padding_value=0.0)\n",
    "    seq_lengths = torch.tensor([len(s) for s in seqs], dtype=torch.long)\n",
    "    seq_lengths = torch.clamp(seq_lengths, min=1)\n",
    "    return xs, seqs_padded, seq_lengths"
   ]
  },
  {
   "cell_type": "markdown",
   "id": "6649f6ff-cb10-45ee-b787-d2e7e652c871",
   "metadata": {},
   "source": [
    "## Define Model Architecture"
   ]
  },
  {
   "cell_type": "code",
   "execution_count": 26,
   "id": "9144bc61-0942-4ed3-bb52-e347d571ad4a",
   "metadata": {},
   "outputs": [],
   "source": [
    "class TabularSeqModel(nn.Module):\n",
    "    def __init__(self, d_features, lstm_hidden=32, hidden_units=[1024, 512, 256, 128], dropout=0.2):\n",
    "        super().__init__()\n",
    "        # 모든 비-시퀀스 피처에 BN\n",
    "        self.bn_x = nn.BatchNorm1d(d_features)\n",
    "        # seq: 숫자 시퀀스 → LSTM\n",
    "        self.lstm = nn.LSTM(input_size=1, hidden_size=lstm_hidden, batch_first=True)\n",
    "\n",
    "        # 최종 MLP\n",
    "        input_dim = d_features + lstm_hidden\n",
    "        layers = []\n",
    "        for h in hidden_units:\n",
    "            layers += [nn.Linear(input_dim, h), nn.ReLU(), nn.Dropout(dropout)]\n",
    "            input_dim = h\n",
    "        layers += [nn.Linear(input_dim, 1)]\n",
    "        self.mlp = nn.Sequential(*layers)\n",
    "\n",
    "    def forward(self, x_feats, x_seq, seq_lengths):\n",
    "        # 비-시퀀스 피처\n",
    "        x = self.bn_x(x_feats)\n",
    "\n",
    "        # 시퀀스 → LSTM (pack)\n",
    "        x_seq = x_seq.unsqueeze(-1)  # (B, L, 1)\n",
    "        packed = nn.utils.rnn.pack_padded_sequence(\n",
    "            x_seq, seq_lengths.cpu(), batch_first=True, enforce_sorted=False\n",
    "        )\n",
    "        _, (h_n, _) = self.lstm(packed)\n",
    "        h = h_n[-1]                  # (B, lstm_hidden)\n",
    "\n",
    "        z = torch.cat([x, h], dim=1)\n",
    "        return self.mlp(z).squeeze(1)  # logits"
   ]
  },
  {
   "cell_type": "markdown",
   "id": "b2c6ad06-d840-4ac3-b565-4d2450c0af39",
   "metadata": {},
   "source": [
    "## Train / Validation"
   ]
  },
  {
   "cell_type": "code",
   "execution_count": 27,
   "id": "f9d94d11-f7b9-449e-b631-e70224df92c9",
   "metadata": {},
   "outputs": [],
   "source": [
    "def train_model(train_df, feature_cols, seq_col, target_col,\n",
    "                batch_size=512, epochs=3, lr=1e-3, device=\"cuda\"):\n",
    "\n",
    "    # 1) split\n",
    "    tr_df, va_df = train_test_split(train_df, test_size=0.2, random_state=42, shuffle=True)\n",
    "\n",
    "    # 2) Dataset / Loader (l_max 인자 제거)\n",
    "    train_dataset = ClickDataset(tr_df, feature_cols, seq_col, target_col, has_target=True)\n",
    "    val_dataset   = ClickDataset(va_df, feature_cols, seq_col, target_col, has_target=True)\n",
    "\n",
    "    train_loader = DataLoader(train_dataset, batch_size=batch_size, shuffle=True,  collate_fn=collate_fn_train)\n",
    "    val_loader   = DataLoader(val_dataset,   batch_size=batch_size, shuffle=False, collate_fn=collate_fn_train)\n",
    "\n",
    "    # 3) 모델\n",
    "    d_features = len(feature_cols)\n",
    "    model = TabularSeqModel(d_features=d_features, lstm_hidden=64, hidden_units=[256,128], dropout=0.2).to(device)\n",
    "\n",
    "    criterion = nn.BCEWithLogitsLoss()\n",
    "    optimizer = torch.optim.Adam(model.parameters(), lr=lr)\n",
    "\n",
    "    # 4) Loop\n",
    "    for epoch in range(1, epochs+1):\n",
    "        model.train()\n",
    "        train_loss = 0.0\n",
    "        for xs, seqs, seq_lens, ys in tqdm(train_loader, desc=f\"Train Epoch {epoch}\"):\n",
    "            xs, seqs, seq_lens, ys = xs.to(device), seqs.to(device), seq_lens.to(device), ys.to(device)\n",
    "            optimizer.zero_grad()\n",
    "            logits = model(xs, seqs, seq_lens)\n",
    "            loss = criterion(logits, ys)\n",
    "            loss.backward()\n",
    "            optimizer.step()\n",
    "            train_loss += loss.item() * ys.size(0)\n",
    "        train_loss /= len(train_dataset)\n",
    "\n",
    "        model.eval()\n",
    "        val_loss = 0.0\n",
    "        with torch.no_grad():\n",
    "            for xs, seqs, seq_lens, ys in tqdm(val_loader, desc=f\"Val Epoch {epoch}\"):\n",
    "                xs, seqs, seq_lens, ys = xs.to(device), seqs.to(device), seq_lens.to(device), ys.to(device)\n",
    "                logits = model(xs, seqs, seq_lens)\n",
    "                loss = criterion(logits, ys)\n",
    "                val_loss += loss.item() * len(ys)\n",
    "        val_loss /= len(val_dataset)\n",
    "\n",
    "        print(f\"[Epoch {epoch}] Train Loss: {train_loss:.4f} | Val Loss: {val_loss:.4f}\")\n",
    "\n",
    "    return model"
   ]
  },
  {
   "cell_type": "markdown",
   "id": "d0999f03-85ca-4eaf-bea0-822cda393d29",
   "metadata": {},
   "source": [
    "## Run!!"
   ]
  },
  {
   "cell_type": "code",
   "execution_count": null,
   "id": "b730bdf4-9697-40b1-b53b-1c10380ff43d",
   "metadata": {},
   "outputs": [
    {
     "name": "stderr",
     "output_type": "stream",
     "text": [
      "Train Epoch 1:  13%|█▎        | 16/120 [00:06<00:40,  2.56it/s]"
     ]
    }
   ],
   "source": [
    "model = train_model(\n",
    "    train_df=train,\n",
    "    feature_cols=feature_cols,\n",
    "    seq_col=seq_col,\n",
    "    target_col=target_col,\n",
    "    batch_size=CFG['BATCH_SIZE'],\n",
    "    epochs=CFG['EPOCHS'],\n",
    "    lr=CFG['LEARNING_RATE'],\n",
    "    device=device\n",
    ")"
   ]
  },
  {
   "cell_type": "code",
   "execution_count": null,
   "id": "c2ea6417",
   "metadata": {},
   "outputs": [],
   "source": [
    "torch.cuda.empty_cache()  # 사용하지 않는 GPU 메모리 해제"
   ]
  },
  {
   "cell_type": "markdown",
   "id": "8c5421c1-a18d-43de-934e-d0ee5af34594",
   "metadata": {},
   "source": [
    "## Inference"
   ]
  },
  {
   "cell_type": "code",
   "execution_count": null,
   "id": "f64e9288-e35d-4e03-bb41-2c4d1fd5ccaf",
   "metadata": {},
   "outputs": [
    {
     "name": "stderr",
     "output_type": "stream",
     "text": [
      "Inference: 100%|██████████| 373/373 [01:53<00:00,  3.28it/s]\n"
     ]
    }
   ],
   "source": [
    "test_pd = test.to_pandas()\n",
    "\n",
    "# 1) Dataset/Loader\n",
    "test_ds = ClickDataset(test_pd, feature_cols, seq_col, has_target=False)\n",
    "test_ld = DataLoader(test_ds, batch_size=CFG['BATCH_SIZE'], shuffle=False, collate_fn=collate_fn_infer)\n",
    "\n",
    "# 2) Predict\n",
    "model.eval()\n",
    "outs = []\n",
    "with torch.no_grad():\n",
    "    for xs, seqs, lens in tqdm(test_ld, desc=\"Inference\"):\n",
    "        xs, seqs, lens = xs.to(device), seqs.to(device), lens.to(device)\n",
    "        outs.append(torch.sigmoid(model(xs, seqs, lens)).cpu())\n",
    "\n",
    "test_preds = torch.cat(outs).numpy()"
   ]
  },
  {
   "cell_type": "markdown",
   "id": "addc0a92-05f9-4be6-9e45-cc52240afc3e",
   "metadata": {},
   "source": [
    "## Submission"
   ]
  },
  {
   "cell_type": "code",
   "execution_count": null,
   "id": "757f01bc-51a2-46bf-983f-a54e91abe222",
   "metadata": {},
   "outputs": [],
   "source": [
    "submit = pd.read_csv('../data/sample_submission.csv')\n",
    "submit['clicked'] = test_preds"
   ]
  },
  {
   "cell_type": "code",
   "execution_count": null,
   "id": "289fc0a5-d97a-4cd6-abfb-245b7383ac34",
   "metadata": {},
   "outputs": [],
   "source": [
    "submit.to_csv('../data/output/baseline_submit2.csv', index=False)"
   ]
  },
  {
   "cell_type": "code",
   "execution_count": null,
   "id": "35064578",
   "metadata": {},
   "outputs": [],
   "source": []
  }
 ],
 "metadata": {
  "kernelspec": {
   "display_name": "toss-ml-venv",
   "language": "python",
   "name": "python3"
  },
  "language_info": {
   "codemirror_mode": {
    "name": "ipython",
    "version": 3
   },
   "file_extension": ".py",
   "mimetype": "text/x-python",
   "name": "python",
   "nbconvert_exporter": "python",
   "pygments_lexer": "ipython3",
   "version": "3.10.13"
  }
 },
 "nbformat": 4,
 "nbformat_minor": 5
}
