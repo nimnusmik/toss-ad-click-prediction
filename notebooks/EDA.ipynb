{
 "cells": [
  {
   "cell_type": "code",
   "execution_count": 1,
   "id": "100ffdb7",
   "metadata": {},
   "outputs": [],
   "source": [
    "import pandas as pd\n",
    "import numpy as np\n",
    "import os\n",
    "import random\n",
    "\n",
    "from sklearn.model_selection import train_test_split\n",
    "from tqdm import tqdm\n",
    "\n",
    "import torch\n",
    "import torch.nn as nn\n",
    "import torch.nn.functional as F\n",
    "import torch.optim as optim\n",
    "from torch.utils.data import Dataset, DataLoader, random_split\n",
    "import polars as pl\n"
   ]
  },
  {
   "cell_type": "markdown",
   "id": "cccc8af6",
   "metadata": {},
   "source": [
    "\n",
    "\n",
    "## **train.parquet**\n",
    "\n",
    "| **항목**                | **설명**                                                                 |\n",
    "|-------------------------|--------------------------------------------------------------------------|\n",
    "| **샘플 수**            | 10,704,179개 (약 천만 개)                                               |\n",
    "| **컬럼 수**            | 119개 (Target 컬럼 `clicked` 포함)                                       |\n",
    "| **컬럼 목록**           |                                                                          |\n",
    "| `gender`                | 성별                                                                    |\n",
    "| `age_group`             | 연령 그룹                                                               |\n",
    "| `inventory_id`          | 지면 ID                                                                 |\n",
    "| `day_of_week`           | 주번호                                                                  |\n",
    "| `hour`                  | 시간                                                                    |\n",
    "| `seq`                   | 유저 서버 로그 시퀀스                                                   |\n",
    "| `l_feat_*`              | 속성 정보 피처 (27개, `l_feat_14`는 Ads set)                             |\n",
    "| `feat_e_*`              | 정보영역 e 피처 (10개)                                                  |\n",
    "| `feat_d_*`              | 정보영역 d 피처 (5개)                                                   |\n",
    "| `feat_c_*`              | 정보영역 c 피처 (8개)                                                   |\n",
    "| `feat_b_*`              | 정보영역 b 피처 (6개)                                                   |\n",
    "| `feat_a_*`              | 정보영역 a 피처 (17개)                                                  |\n",
    "| `history_a_*`           | 과거 인기도 피처 (6개)                                                  |\n",
    "| `history_b_*`           | 과거 인기도 피처 (30개)                                                 |\n",
    "| `clicked`               | 클릭 여부 (Label, Target)                                               |\n",
    "\n",
    "## **test.parquet**\n",
    "\n",
    "| **항목**                | **설명**                                                                 |\n",
    "|-------------------------|--------------------------------------------------------------------------|\n",
    "| **샘플 수**            | 1,527,298개 (약 백만개)                                                             |\n",
    "| **컬럼 수**            | 118개 (`ID` 식별자 컬럼 포함)                                           |\n",
    "| **컬럼 목록**           |                                                                          |\n",
    "| `ID`                    | 샘플 식별자                                                             |\n",
    "| `gender`                | 성별                                                                    |\n",
    "| `age_group`             | 연령 그룹                                                               |\n",
    "| `inventory_id`          | 지면 ID                                                                 |\n",
    "| `day_of_week`           | 주번호                                                                  |\n",
    "| `hour`                  | 시간                                                                    |\n",
    "| `seq`                   | 유저 서버 로그 시퀀스                                                   |\n",
    "| `l_feat_*`              | 속성 정보 피처 (27개, `l_feat_14`는 Ads set)                             |\n",
    "| `feat_e_*`              | 정보영역 e 피처 (10개)                                                  |\n",
    "| `feat_d_*`              | 정보영역 d 피처 (5개)                                                   |\n",
    "| `feat_c_*`              | 정보영역 c 피처 (8개)                                                   |\n",
    "| `feat_b_*`              | 정보영역 b 피처 (6개)                                                   |\n",
    "| `feat_a_*`              | 정보영역 a 피처 (17개)                                                  |\n",
    "| `history_a_*`           | 과거 인기도 피처 (6개)                                                  |\n",
    "| `history_b_*`           | 과거 인기도 피처 (30개)                                                 |\n",
    "\n",
    "## **sample_submission.csv**\n",
    "\n",
    "| **항목**                | **설명**                                                                 |\n",
    "|-------------------------|--------------------------------------------------------------------------|\n",
    "| **컬럼 목록**           |                                                                          |\n",
    "| `ID`                    | 샘플 식별자                                                             |\n",
    "| `clicked`               | 광고를 클릭할 확률 (0 ~ 1)                                              |"
   ]
  },
  {
   "cell_type": "code",
   "execution_count": 2,
   "id": "04d88413",
   "metadata": {},
   "outputs": [
    {
     "name": "stdout",
     "output_type": "stream",
     "text": [
      "Train shape: (10704179, 119)\n",
      "Test shape: (1527298, 119)\n"
     ]
    }
   ],
   "source": [
    "\n",
    "all_train = pl.read_parquet(\"../data/train.parquet\")\n",
    "test = pl.read_parquet(\"../data/test.parquet\")\n",
    "\n",
    "print(\"Train shape:\", all_train.shape)\n",
    "print(\"Test shape:\", test.shape)"
   ]
  },
  {
   "cell_type": "code",
   "execution_count": 3,
   "id": "cda691a4",
   "metadata": {},
   "outputs": [
    {
     "name": "stdout",
     "output_type": "stream",
     "text": [
      "Train shape: (10704179, 44)\n",
      "Test shape: (1527298, 44)\n"
     ]
    }
   ],
   "source": [
    "\n",
    "all_train = pl.read_parquet(\"../data/processed/train_processed.parquet\")\n",
    "test = pl.read_parquet(\"../data/processed/test_processed.parquet\")\n",
    "\n",
    "print(\"Train shape:\", all_train.shape)\n",
    "print(\"Test shape:\", test.shape)"
   ]
  },
  {
   "cell_type": "code",
   "execution_count": 5,
   "id": "ec8987be",
   "metadata": {},
   "outputs": [
    {
     "data": {
      "text/html": [
       "<div><style>\n",
       ".dataframe > thead > tr,\n",
       ".dataframe > tbody > tr {\n",
       "  text-align: right;\n",
       "  white-space: pre-wrap;\n",
       "}\n",
       "</style>\n",
       "<small>shape: (10, 119)</small><table border=\"1\" class=\"dataframe\"><thead><tr><th>gender</th><th>age_group</th><th>inventory_id</th><th>day_of_week</th><th>hour</th><th>seq</th><th>l_feat_1</th><th>l_feat_2</th><th>l_feat_3</th><th>l_feat_4</th><th>l_feat_5</th><th>l_feat_6</th><th>l_feat_7</th><th>l_feat_8</th><th>l_feat_9</th><th>l_feat_10</th><th>l_feat_11</th><th>l_feat_12</th><th>l_feat_13</th><th>l_feat_14</th><th>l_feat_15</th><th>l_feat_16</th><th>l_feat_17</th><th>l_feat_18</th><th>l_feat_19</th><th>l_feat_20</th><th>l_feat_21</th><th>l_feat_22</th><th>l_feat_23</th><th>l_feat_24</th><th>l_feat_25</th><th>l_feat_26</th><th>l_feat_27</th><th>feat_e_1</th><th>feat_e_2</th><th>feat_e_3</th><th>feat_e_4</th><th>&hellip;</th><th>history_a_2</th><th>history_a_3</th><th>history_a_4</th><th>history_a_5</th><th>history_a_6</th><th>history_a_7</th><th>history_b_1</th><th>history_b_2</th><th>history_b_3</th><th>history_b_4</th><th>history_b_5</th><th>history_b_6</th><th>history_b_7</th><th>history_b_8</th><th>history_b_9</th><th>history_b_10</th><th>history_b_11</th><th>history_b_12</th><th>history_b_13</th><th>history_b_14</th><th>history_b_15</th><th>history_b_16</th><th>history_b_17</th><th>history_b_18</th><th>history_b_19</th><th>history_b_20</th><th>history_b_21</th><th>history_b_22</th><th>history_b_23</th><th>history_b_24</th><th>history_b_25</th><th>history_b_26</th><th>history_b_27</th><th>history_b_28</th><th>history_b_29</th><th>history_b_30</th><th>clicked</th></tr><tr><td>str</td><td>str</td><td>str</td><td>str</td><td>str</td><td>str</td><td>f32</td><td>f32</td><td>f32</td><td>f32</td><td>f32</td><td>f32</td><td>f32</td><td>f32</td><td>f32</td><td>f32</td><td>f32</td><td>f32</td><td>f32</td><td>f32</td><td>f32</td><td>f32</td><td>f32</td><td>f32</td><td>f32</td><td>f32</td><td>f32</td><td>f32</td><td>f32</td><td>f32</td><td>f32</td><td>f32</td><td>f32</td><td>f32</td><td>f32</td><td>f32</td><td>f32</td><td>&hellip;</td><td>f32</td><td>f32</td><td>f32</td><td>f32</td><td>f32</td><td>f32</td><td>f32</td><td>f32</td><td>f32</td><td>f32</td><td>f32</td><td>f32</td><td>f32</td><td>f32</td><td>f32</td><td>f32</td><td>f32</td><td>f32</td><td>f32</td><td>f32</td><td>f32</td><td>f32</td><td>f32</td><td>f32</td><td>f32</td><td>f32</td><td>f32</td><td>f32</td><td>f32</td><td>f32</td><td>f32</td><td>f32</td><td>f32</td><td>f32</td><td>f32</td><td>f32</td><td>i32</td></tr></thead><tbody><tr><td>&quot;1.0&quot;</td><td>&quot;7.0&quot;</td><td>&quot;36&quot;</td><td>&quot;5&quot;</td><td>&quot;13&quot;</td><td>&quot;9,18,269,516,57,97,527,74,317,…</td><td>1.0</td><td>2.0</td><td>1.0</td><td>23.0</td><td>1.0</td><td>1.0</td><td>193.0</td><td>2.0</td><td>50.0</td><td>118.0</td><td>743.0</td><td>2877.0</td><td>2.0</td><td>1591.0</td><td>1058.0</td><td>2.0</td><td>50.0</td><td>1.0</td><td>2.0</td><td>2.0</td><td>2.0</td><td>2.0</td><td>1.0</td><td>1.0</td><td>1129.0</td><td>5.0</td><td>2.0</td><td>65.0</td><td>-4230.666504</td><td>23.863636</td><td>-0.05</td><td>&hellip;</td><td>-0.055556</td><td>0.02439</td><td>-326.857147</td><td>-0.014493</td><td>-183.285721</td><td>-13.596154</td><td>0.115821</td><td>0.138626</td><td>0.047507</td><td>0.050622</td><td>0.026479</td><td>0.001558</td><td>0.024922</td><td>0.051401</td><td>0.004673</td><td>0.021028</td><td>0.072428</td><td>0.007009</td><td>0.028816</td><td>0.05841</td><td>0.000779</td><td>0.072428</td><td>0.016355</td><td>0.011682</td><td>0.010124</td><td>0.002336</td><td>0.008567</td><td>0.070092</td><td>0.070092</td><td>0.011682</td><td>0.004673</td><td>0.087226</td><td>0.049843</td><td>0.015576</td><td>0.040498</td><td>0.051401</td><td>0</td></tr><tr><td>&quot;1.0&quot;</td><td>&quot;7.0&quot;</td><td>&quot;2&quot;</td><td>&quot;5&quot;</td><td>&quot;08&quot;</td><td>&quot;9,144,269,57,516,97,527,74,315…</td><td>2.0</td><td>2.0</td><td>3.0</td><td>17.0</td><td>193.0</td><td>116.0</td><td>164.0</td><td>2.0</td><td>14.0</td><td>109.0</td><td>674.0</td><td>218.0</td><td>2.0</td><td>122.0</td><td>751.0</td><td>1.0</td><td>14.0</td><td>1.0</td><td>2.0</td><td>2.0</td><td>2.0</td><td>2.0</td><td>1.0</td><td>1.0</td><td>1129.0</td><td>16.0</td><td>1.0</td><td>65.0</td><td>-1346.648193</td><td>4.545455</td><td>-0.05</td><td>&hellip;</td><td>0.0</td><td>0.0</td><td>-382.285706</td><td>0.0</td><td>-176.0</td><td>-11.442307</td><td>0.068794</td><td>0.072179</td><td>0.049471</td><td>0.052715</td><td>0.027574</td><td>0.001622</td><td>0.025952</td><td>0.053526</td><td>0.004866</td><td>0.021897</td><td>0.075423</td><td>0.007299</td><td>0.030007</td><td>0.060825</td><td>0.000811</td><td>0.075423</td><td>0.017031</td><td>0.012165</td><td>0.010543</td><td>0.002433</td><td>0.008921</td><td>0.07299</td><td>0.07299</td><td>0.012165</td><td>0.004866</td><td>0.045416</td><td>0.051904</td><td>0.01622</td><td>0.042172</td><td>0.026763</td><td>0</td></tr><tr><td>&quot;1.0&quot;</td><td>&quot;7.0&quot;</td><td>&quot;36&quot;</td><td>&quot;5&quot;</td><td>&quot;11&quot;</td><td>&quot;269,516,57,97,165,527,74,77,31…</td><td>1.0</td><td>2.0</td><td>1.0</td><td>7.0</td><td>675.0</td><td>85.0</td><td>227.0</td><td>2.0</td><td>362.0</td><td>212.0</td><td>1029.0</td><td>3916.0</td><td>1.0</td><td>2924.0</td><td>2304.0</td><td>2.0</td><td>362.0</td><td>3.0</td><td>2.0</td><td>2.0</td><td>2.0</td><td>2.0</td><td>1.0</td><td>1.0</td><td>1129.0</td><td>16.0</td><td>1.0</td><td>64.638885</td><td>-3195.388916</td><td>22.727272</td><td>-0.05</td><td>&hellip;</td><td>-0.111111</td><td>0.097561</td><td>-409.0</td><td>-0.014493</td><td>-224.714279</td><td>-13.942307</td><td>0.112947</td><td>0.169634</td><td>0.038753</td><td>0.041295</td><td>0.0216</td><td>0.001271</td><td>0.02033</td><td>0.04193</td><td>0.003812</td><td>0.017153</td><td>0.059083</td><td>0.005718</td><td>0.023506</td><td>0.047647</td><td>0.000635</td><td>0.059083</td><td>0.026683</td><td>0.00953</td><td>0.008259</td><td>0.001906</td><td>0.006988</td><td>0.057177</td><td>0.057177</td><td>0.00953</td><td>0.003812</td><td>0.035577</td><td>0.081318</td><td>0.012706</td><td>0.033036</td><td>0.062898</td><td>0</td></tr><tr><td>&quot;1.0&quot;</td><td>&quot;8.0&quot;</td><td>&quot;37&quot;</td><td>&quot;5&quot;</td><td>&quot;11&quot;</td><td>&quot;269,57,516,21,214,269,561,214,…</td><td>2.0</td><td>2.0</td><td>2.0</td><td>7.0</td><td>294.0</td><td>442.0</td><td>130.0</td><td>2.0</td><td>163.0</td><td>179.0</td><td>102.0</td><td>789.0</td><td>2.0</td><td>2169.0</td><td>439.0</td><td>1.0</td><td>163.0</td><td>1.0</td><td>2.0</td><td>2.0</td><td>2.0</td><td>2.0</td><td>1.0</td><td>1.0</td><td>1129.0</td><td>4.0</td><td>1.0</td><td>65.0</td><td>-4029.962891</td><td>3.863636</td><td>-0.05</td><td>&hellip;</td><td>-0.055556</td><td>0.02439</td><td>-274.428558</td><td>-0.014493</td><td>-127.85714</td><td>-9.846154</td><td>0.159843</td><td>0.198657</td><td>0.068082</td><td>0.072546</td><td>0.037947</td><td>0.002232</td><td>0.035715</td><td>0.073663</td><td>0.006697</td><td>0.030135</td><td>0.103797</td><td>0.010045</td><td>0.041296</td><td>0.083707</td><td>0.002232</td><td>0.103797</td><td>0.023438</td><td>0.016741</td><td>0.014509</td><td>0.003348</td><td>0.012277</td><td>0.100449</td><td>0.100449</td><td>0.016741</td><td>0.006697</td><td>0.062502</td><td>0.07143</td><td>0.022322</td><td>0.058037</td><td>0.073659</td><td>0</td></tr><tr><td>&quot;2.0&quot;</td><td>&quot;7.0&quot;</td><td>&quot;37&quot;</td><td>&quot;5&quot;</td><td>&quot;07&quot;</td><td>&quot;144,269,57,516,35,479,57,516,5…</td><td>2.0</td><td>2.0</td><td>3.0</td><td>24.0</td><td>497.0</td><td>435.0</td><td>171.0</td><td>2.0</td><td>193.0</td><td>131.0</td><td>690.0</td><td>110.0</td><td>1.0</td><td>2084.0</td><td>106.0</td><td>1.0</td><td>193.0</td><td>1.0</td><td>2.0</td><td>2.0</td><td>2.0</td><td>2.0</td><td>1.0</td><td>1.0</td><td>1129.0</td><td>15.0</td><td>4.0</td><td>65.0</td><td>-2106.407471</td><td>8.522727</td><td>-0.05</td><td>&hellip;</td><td>0.0</td><td>0.0</td><td>-407.571442</td><td>0.0</td><td>-199.142853</td><td>-14.019231</td><td>0.056166</td><td>0.063795</td><td>0.043725</td><td>0.046592</td><td>0.024371</td><td>0.001434</td><td>0.022938</td><td>0.047309</td><td>0.004301</td><td>0.019354</td><td>0.066662</td><td>0.006451</td><td>0.026522</td><td>0.05376</td><td>0.000717</td><td>0.066662</td><td>0.015053</td><td>0.010752</td><td>0.009318</td><td>0.00215</td><td>0.007885</td><td>0.064512</td><td>0.064512</td><td>0.010752</td><td>0.004301</td><td>0.040141</td><td>0.045875</td><td>0.014336</td><td>0.037274</td><td>0.023654</td><td>0</td></tr><tr><td>&quot;1.0&quot;</td><td>&quot;5.0&quot;</td><td>&quot;2&quot;</td><td>&quot;5&quot;</td><td>&quot;08&quot;</td><td>&quot;9,516,57,527,74,77,532,101,132…</td><td>2.0</td><td>2.0</td><td>3.0</td><td>17.0</td><td>404.0</td><td>502.0</td><td>170.0</td><td>2.0</td><td>66.0</td><td>122.0</td><td>6.0</td><td>3031.0</td><td>1.0</td><td>1073.0</td><td>426.0</td><td>1.0</td><td>66.0</td><td>1.0</td><td>1.0</td><td>2.0</td><td>2.0</td><td>2.0</td><td>1.0</td><td>1.0</td><td>1129.0</td><td>10.0</td><td>2.0</td><td>65.0</td><td>-1488.648193</td><td>3.977273</td><td>-0.05</td><td>&hellip;</td><td>-0.055556</td><td>0.02439</td><td>-527.714294</td><td>-0.014493</td><td>-260.428558</td><td>-17.557692</td><td>0.089716</td><td>0.097589</td><td>0.03344</td><td>0.035633</td><td>0.018639</td><td>0.001096</td><td>0.017542</td><td>0.036181</td><td>0.003289</td><td>0.014801</td><td>0.050983</td><td>0.004934</td><td>0.020283</td><td>0.041115</td><td>0.000548</td><td>0.050983</td><td>0.011512</td><td>0.008223</td><td>0.007127</td><td>0.001645</td><td>0.00603</td><td>0.049338</td><td>0.049338</td><td>0.008223</td><td>0.003289</td><td>0.030699</td><td>0.035085</td><td>0.02193</td><td>0.028506</td><td>0.036185</td><td>0</td></tr><tr><td>&quot;1.0&quot;</td><td>&quot;7.0&quot;</td><td>&quot;43&quot;</td><td>&quot;5&quot;</td><td>&quot;10&quot;</td><td>&quot;9,516,57,221,97,63,520,426,221…</td><td>2.0</td><td>1.0</td><td>2.0</td><td>8.0</td><td>918.0</td><td>232.0</td><td>169.0</td><td>2.0</td><td>263.0</td><td>49.0</td><td>1286.0</td><td>4257.0</td><td>2.0</td><td>1550.0</td><td>435.0</td><td>1.0</td><td>263.0</td><td>5.0</td><td>2.0</td><td>2.0</td><td>2.0</td><td>2.0</td><td>1.0</td><td>1.0</td><td>1129.0</td><td>11.0</td><td>4.0</td><td>64.277779</td><td>-455.555542</td><td>4.545455</td><td>-0.05</td><td>&hellip;</td><td>-0.055556</td><td>0.085366</td><td>-372.428558</td><td>0.0</td><td>-161.857147</td><td>-11.826923</td><td>0.066559</td><td>0.156969</td><td>0.05379</td><td>0.057317</td><td>0.029981</td><td>0.001764</td><td>0.028218</td><td>0.058199</td><td>0.005291</td><td>0.023809</td><td>0.082007</td><td>0.007936</td><td>0.032627</td><td>0.066135</td><td>0.000882</td><td>0.082007</td><td>0.018518</td><td>0.013227</td><td>0.011463</td><td>0.002645</td><td>0.0097</td><td>0.079362</td><td>0.079362</td><td>0.013227</td><td>0.005291</td><td>0.049381</td><td>0.056435</td><td>0.035274</td><td>0.045854</td><td>0.058202</td><td>0</td></tr><tr><td>&quot;1.0&quot;</td><td>&quot;6.0&quot;</td><td>&quot;36&quot;</td><td>&quot;5&quot;</td><td>&quot;10&quot;</td><td>&quot;57,516,338,416,74,527,77,318,4…</td><td>1.0</td><td>2.0</td><td>1.0</td><td>6.0</td><td>935.0</td><td>816.0</td><td>282.0</td><td>2.0</td><td>293.0</td><td>166.0</td><td>1322.0</td><td>4659.0</td><td>2.0</td><td>3090.0</td><td>2484.0</td><td>2.0</td><td>293.0</td><td>2.0</td><td>2.0</td><td>2.0</td><td>2.0</td><td>2.0</td><td>1.0</td><td>1.0</td><td>1129.0</td><td>15.0</td><td>1.0</td><td>63.555557</td><td>-1871.703735</td><td>22.727272</td><td>-0.05</td><td>&hellip;</td><td>-0.111111</td><td>0.02439</td><td>-70.714287</td><td>0.0</td><td>-40.285713</td><td>-2.307692</td><td>0.338845</td><td>0.943462</td><td>0.431093</td><td>0.459361</td><td>0.120142</td><td>0.007067</td><td>0.113075</td><td>0.233218</td><td>0.021202</td><td>0.095407</td><td>0.328625</td><td>0.031802</td><td>0.130743</td><td>0.26502</td><td>0.003534</td><td>0.328625</td><td>0.074206</td><td>0.053004</td><td>0.045937</td><td>0.010601</td><td>0.03887</td><td>0.318024</td><td>0.318024</td><td>0.053004</td><td>0.021202</td><td>0.395758</td><td>0.22615</td><td>0.070672</td><td>0.183747</td><td>0.233214</td><td>0</td></tr><tr><td>&quot;1.0&quot;</td><td>&quot;7.0&quot;</td><td>&quot;37&quot;</td><td>&quot;5&quot;</td><td>&quot;01&quot;</td><td>&quot;57,516,97,165,74,527,317,269,3…</td><td>2.0</td><td>2.0</td><td>3.0</td><td>14.0</td><td>870.0</td><td>769.0</td><td>134.0</td><td>2.0</td><td>395.0</td><td>236.0</td><td>1291.0</td><td>4517.0</td><td>2.0</td><td>3042.0</td><td>2411.0</td><td>1.0</td><td>395.0</td><td>2.0</td><td>2.0</td><td>2.0</td><td>2.0</td><td>2.0</td><td>1.0</td><td>1.0</td><td>1129.0</td><td>15.0</td><td>2.0</td><td>65.0</td><td>-1466.148193</td><td>5.681818</td><td>-0.05</td><td>&hellip;</td><td>0.0</td><td>0.012195</td><td>-191.714279</td><td>0.0</td><td>-84.85714</td><td>-5.423077</td><td>0.144878</td><td>0.149582</td><td>0.102523</td><td>0.109246</td><td>0.057144</td><td>0.003361</td><td>0.053782</td><td>0.110926</td><td>0.010084</td><td>0.045379</td><td>0.156305</td><td>0.015126</td><td>0.062186</td><td>0.126052</td><td>0.001681</td><td>0.156305</td><td>0.035295</td><td>0.02521</td><td>0.021849</td><td>0.005042</td><td>0.018488</td><td>0.151263</td><td>0.151263</td><td>0.02521</td><td>0.010084</td><td>0.094119</td><td>0.107565</td><td>0.033614</td><td>0.087396</td><td>0.055463</td><td>0</td></tr><tr><td>&quot;1.0&quot;</td><td>&quot;6.0&quot;</td><td>&quot;42&quot;</td><td>&quot;5&quot;</td><td>&quot;22&quot;</td><td>&quot;9,269,57,516,74,207,452,452,24…</td><td>2.0</td><td>2.0</td><td>2.0</td><td>7.0</td><td>444.0</td><td>447.0</td><td>111.0</td><td>2.0</td><td>246.0</td><td>161.0</td><td>119.0</td><td>4110.0</td><td>2.0</td><td>2980.0</td><td>2348.0</td><td>1.0</td><td>246.0</td><td>1.0</td><td>2.0</td><td>2.0</td><td>2.0</td><td>2.0</td><td>1.0</td><td>1.0</td><td>1129.0</td><td>4.0</td><td>1.0</td><td>65.0</td><td>-4157.592773</td><td>10.113636</td><td>-0.05</td><td>&hellip;</td><td>0.0</td><td>0.02439</td><td>-371.857147</td><td>0.0</td><td>-197.571426</td><td>-14.75</td><td>0.053386</td><td>0.064302</td><td>0.044073</td><td>0.046962</td><td>0.024565</td><td>0.001445</td><td>0.02312</td><td>0.047685</td><td>0.004335</td><td>0.019507</td><td>0.067193</td><td>0.006502</td><td>0.026733</td><td>0.054187</td><td>0.000722</td><td>0.067193</td><td>0.015173</td><td>0.010837</td><td>0.009392</td><td>0.002168</td><td>0.007947</td><td>0.065025</td><td>0.065025</td><td>0.010837</td><td>0.004335</td><td>0.04046</td><td>0.04624</td><td>0.01445</td><td>0.03757</td><td>0.023843</td><td>0</td></tr></tbody></table></div>"
      ],
      "text/plain": [
       "shape: (10, 119)\n",
       "┌────────┬───────────┬────────────┬────────────┬───┬────────────┬────────────┬───────────┬─────────┐\n",
       "│ gender ┆ age_group ┆ inventory_ ┆ day_of_wee ┆ … ┆ history_b_ ┆ history_b_ ┆ history_b ┆ clicked │\n",
       "│ ---    ┆ ---       ┆ id         ┆ k          ┆   ┆ 28         ┆ 29         ┆ _30       ┆ ---     │\n",
       "│ str    ┆ str       ┆ ---        ┆ ---        ┆   ┆ ---        ┆ ---        ┆ ---       ┆ i32     │\n",
       "│        ┆           ┆ str        ┆ str        ┆   ┆ f32        ┆ f32        ┆ f32       ┆         │\n",
       "╞════════╪═══════════╪════════════╪════════════╪═══╪════════════╪════════════╪═══════════╪═════════╡\n",
       "│ 1.0    ┆ 7.0       ┆ 36         ┆ 5          ┆ … ┆ 0.015576   ┆ 0.040498   ┆ 0.051401  ┆ 0       │\n",
       "│ 1.0    ┆ 7.0       ┆ 2          ┆ 5          ┆ … ┆ 0.01622    ┆ 0.042172   ┆ 0.026763  ┆ 0       │\n",
       "│ 1.0    ┆ 7.0       ┆ 36         ┆ 5          ┆ … ┆ 0.012706   ┆ 0.033036   ┆ 0.062898  ┆ 0       │\n",
       "│ 1.0    ┆ 8.0       ┆ 37         ┆ 5          ┆ … ┆ 0.022322   ┆ 0.058037   ┆ 0.073659  ┆ 0       │\n",
       "│ 2.0    ┆ 7.0       ┆ 37         ┆ 5          ┆ … ┆ 0.014336   ┆ 0.037274   ┆ 0.023654  ┆ 0       │\n",
       "│ 1.0    ┆ 5.0       ┆ 2          ┆ 5          ┆ … ┆ 0.02193    ┆ 0.028506   ┆ 0.036185  ┆ 0       │\n",
       "│ 1.0    ┆ 7.0       ┆ 43         ┆ 5          ┆ … ┆ 0.035274   ┆ 0.045854   ┆ 0.058202  ┆ 0       │\n",
       "│ 1.0    ┆ 6.0       ┆ 36         ┆ 5          ┆ … ┆ 0.070672   ┆ 0.183747   ┆ 0.233214  ┆ 0       │\n",
       "│ 1.0    ┆ 7.0       ┆ 37         ┆ 5          ┆ … ┆ 0.033614   ┆ 0.087396   ┆ 0.055463  ┆ 0       │\n",
       "│ 1.0    ┆ 6.0       ┆ 42         ┆ 5          ┆ … ┆ 0.01445    ┆ 0.03757    ┆ 0.023843  ┆ 0       │\n",
       "└────────┴───────────┴────────────┴────────────┴───┴────────────┴────────────┴───────────┴─────────┘"
      ]
     },
     "execution_count": 5,
     "metadata": {},
     "output_type": "execute_result"
    }
   ],
   "source": [
    "all_train.head(10)"
   ]
  },
  {
   "cell_type": "markdown",
   "id": "b9900745",
   "metadata": {},
   "source": [
    "# 1. 상관관계 분석 (가장 빠름)"
   ]
  },
  {
   "cell_type": "code",
   "execution_count": 8,
   "id": "f17d8435",
   "metadata": {},
   "outputs": [
    {
     "name": "stdout",
     "output_type": "stream",
     "text": [
      "전체 데이터 MI 계산 시작: 10,704,179행\n",
      "처리할 컬럼 수: 42\n"
     ]
    },
    {
     "name": "stderr",
     "output_type": "stream",
     "text": [
      "/tmp/ipykernel_1390322/3042120431.py:7: DeprecationWarning: `NUMERIC_DTYPES` was deprecated in version 1.0.0. Define your own data type groups or use the `polars.selectors` module for selecting columns of a certain data type.\n",
      "  numeric_cols = df.select(pl.col(pl.NUMERIC_DTYPES)).columns\n",
      "/root/toss-ad-click-prediction/toss-ml-venv/lib/python3.10/site-packages/sklearn/utils/validation.py:1406: DataConversionWarning: A column-vector y was passed when a 1d array was expected. Please change the shape of y to (n_samples, ), for example using ravel().\n",
      "  y = column_or_1d(y, warn=True)\n"
     ]
    },
    {
     "ename": "",
     "evalue": "",
     "output_type": "error",
     "traceback": [
      "\u001b[1;31mThe Kernel crashed while executing code in the current cell or a previous cell. \n",
      "\u001b[1;31mPlease review the code in the cell(s) to identify a possible cause of the failure. \n",
      "\u001b[1;31mClick <a href='https://aka.ms/vscodeJupyterKernelCrash'>here</a> for more info. \n",
      "\u001b[1;31mView Jupyter <a href='command:jupyter.viewOutput'>log</a> for further details."
     ]
    }
   ],
   "source": [
    "from sklearn.feature_selection import mutual_info_classif\n",
    "import pandas as pd\n",
    "\n",
    "def efficient_full_mi(df, target=\"clicked\", batch_size=50):\n",
    "    print(f\"전체 데이터 MI 계산 시작: {len(df):,}행\")\n",
    "    \n",
    "    numeric_cols = df.select(pl.col(pl.NUMERIC_DTYPES)).columns\n",
    "    feature_cols = [col for col in numeric_cols if col != target]\n",
    "    print(f\"처리할 컬럼 수: {len(feature_cols)}\")\n",
    "    \n",
    "    all_mi = []\n",
    "    \n",
    "    for i in range(0, len(feature_cols), batch_size):\n",
    "        batch_cols = feature_cols[i:i+batch_size]\n",
    "        \n",
    "        # NaN 처리\n",
    "        X_batch = df.select(batch_cols).to_pandas().fillna(0)\n",
    "        y = df.select(target).to_pandas().values\n",
    "        \n",
    "        mi_scores = mutual_info_classif(X_batch, y, discrete_features='auto', random_state=42)\n",
    "        \n",
    "        for col, score in zip(batch_cols, mi_scores):\n",
    "            all_mi.append({\"feature\": col, \"mutual_info\": score})\n",
    "        \n",
    "        print(f\"진행률: {min(i+batch_size, len(feature_cols))}/{len(feature_cols)}\")\n",
    "    \n",
    "    result_df = pd.DataFrame(all_mi)\n",
    "    result_df = result_df.sort_values(\"mutual_info\", ascending=False)\n",
    "    \n",
    "    return result_df\n",
    "\n",
    "# 적용\n",
    "mi_results = efficient_full_mi(all_train)\n",
    "print(\"상위 40개 특성:\")\n",
    "print(mi_results.head(40))"
   ]
  },
  {
   "cell_type": "code",
   "execution_count": 6,
   "id": "1eaf64b7",
   "metadata": {},
   "outputs": [
    {
     "name": "stdout",
     "output_type": "stream",
     "text": [
      "전체 데이터 상관관계 계산 시작: 10,704,179행\n",
      "처리할 컬럼 수: 42\n"
     ]
    },
    {
     "name": "stderr",
     "output_type": "stream",
     "text": [
      "/tmp/ipykernel_1390322/4004525209.py:11: DeprecationWarning: `NUMERIC_DTYPES` was deprecated in version 1.0.0. Define your own data type groups or use the `polars.selectors` module for selecting columns of a certain data type.\n",
      "  numeric_cols = df.select(pl.col(pl.NUMERIC_DTYPES)).columns\n"
     ]
    },
    {
     "name": "stdout",
     "output_type": "stream",
     "text": [
      "진행률: 42/42\n",
      "완료! 소요시간: 0.38초\n",
      "상위 40개 특성:\n",
      "          feature  correlation\n",
      "15    history_a_1     0.068000\n",
      "16    history_a_2    -0.060412\n",
      "17    history_a_3     0.059675\n",
      "18    history_a_5    -0.059130\n",
      "20    history_b_2     0.059034\n",
      "30   history_b_30     0.057875\n",
      "19    history_b_1     0.051917\n",
      "1    inventory_id     0.051866\n",
      "10       feat_b_4    -0.048458\n",
      "24   history_b_10     0.048412\n",
      "12       feat_d_3    -0.046677\n",
      "14       feat_e_1    -0.045638\n",
      "26   history_b_17     0.044046\n",
      "25   history_b_15     0.043015\n",
      "23    history_b_9     0.042772\n",
      "21    history_b_3     0.042717\n",
      "27   history_b_20     0.042627\n",
      "28   history_b_27     0.042265\n",
      "29   history_b_28     0.042062\n",
      "22    history_b_5     0.042018\n",
      "2      seq_length    -0.021842\n",
      "34       l_feat_5     0.015024\n",
      "11       feat_c_8    -0.014627\n",
      "41      l_feat_15     0.011832\n",
      "31       l_feat_1     0.011727\n",
      "13       feat_d_4     0.009787\n",
      "37       l_feat_9     0.009170\n",
      "36       l_feat_7     0.008672\n",
      "3       seq_first     0.008211\n",
      "35       l_feat_6     0.008177\n",
      "39      l_feat_12     0.006900\n",
      "9   week_hour_cos    -0.006253\n",
      "5         dow_cos    -0.005410\n",
      "6        hour_sin    -0.004323\n",
      "33       l_feat_4     0.004134\n",
      "4         dow_sin     0.004067\n",
      "38      l_feat_10     0.003906\n",
      "40      l_feat_14     0.003789\n",
      "7        hour_cos     0.001851\n",
      "0       age_group     0.001702\n",
      "8   week_hour_sin     0.001202\n",
      "32       l_feat_2    -0.000130\n"
     ]
    }
   ],
   "source": [
    "# 상관관계 분석 \n",
    "import time\n",
    "\n",
    "def efficient_full_correlation(df):\n",
    "    \"\"\"\n",
    "    전체 데이터를 사용하되 효율적으로 처리\n",
    "    \"\"\"\n",
    "    print(f\"전체 데이터 상관관계 계산 시작: {len(df):,}행\")\n",
    "    \n",
    "    # 숫자형 컬럼만 선택\n",
    "    numeric_cols = df.select(pl.col(pl.NUMERIC_DTYPES)).columns\n",
    "    target_cols = [col for col in numeric_cols if col != \"clicked\"]\n",
    "    \n",
    "    print(f\"처리할 컬럼 수: {len(target_cols)}\")\n",
    "    \n",
    "    # 한 번에 모든 상관관계 계산 (가장 효율적)\n",
    "    start_time = time.time()\n",
    "    \n",
    "    # polars의 벡터화된 연산 활용\n",
    "    corr_exprs = [pl.corr(\"clicked\", col).alias(f\"{col}_corr\") \n",
    "                  for col in target_cols]\n",
    "    \n",
    "    # 배치 처리 - 한번에 모든 상관관계 계산\n",
    "    batch_size = 50  # 50개씩 나누어 처리 (메모리 관리)\n",
    "    all_correlations = []\n",
    "    \n",
    "    for i in range(0, len(corr_exprs), batch_size):\n",
    "        batch_exprs = corr_exprs[i:i+batch_size]\n",
    "        batch_result = df.select(batch_exprs)\n",
    "        \n",
    "        # 결과를 리스트로 변환\n",
    "        for col_name in batch_result.columns:\n",
    "            feature_name = col_name.replace(\"_corr\", \"\")\n",
    "            corr_value = batch_result.select(col_name).item()\n",
    "            all_correlations.append({\n",
    "                \"feature\": feature_name, \n",
    "                \"correlation\": corr_value\n",
    "            })\n",
    "        \n",
    "        print(f\"진행률: {min(i+batch_size, len(corr_exprs))}/{len(corr_exprs)}\")\n",
    "    \n",
    "    end_time = time.time()\n",
    "    print(f\"완료! 소요시간: {end_time - start_time:.2f}초\")\n",
    "    \n",
    "    # 결과 정렬\n",
    "    import pandas as pd\n",
    "    result_df = pd.DataFrame(all_correlations)\n",
    "    result_df = result_df.sort_values(\"correlation\", key=abs, ascending=False)\n",
    "    \n",
    "    return result_df\n",
    "\n",
    "# 전체 데이터로 효율적 계산\n",
    "full_correlations = efficient_full_correlation(all_train)\n",
    "print(\"상위 40개 특성:\")\n",
    "print(full_correlations.head(44))\n"
   ]
  },
  {
   "cell_type": "code",
   "execution_count": 6,
   "id": "ca15cfdd",
   "metadata": {},
   "outputs": [
    {
     "name": "stdout",
     "output_type": "stream",
     "text": [
      "204179 10500000\n",
      "51.42546491069111\n"
     ]
    }
   ],
   "source": [
    "print(len(all_train.filter(pl.col('clicked') == 1)), len(all_train.filter(pl.col('clicked') == 0)))\n",
    "\n",
    "print(len(all_train.filter(pl.col('clicked') == 0))/len(all_train.filter(pl.col('clicked') == 1)))"
   ]
  },
  {
   "cell_type": "markdown",
   "id": "16467b7e",
   "metadata": {},
   "source": [
    "- 클릭한 사람: 204179 \n",
    "- 클릭 안한 사람: 10500000 (한 사람에 비해 50배)"
   ]
  },
  {
   "cell_type": "code",
   "execution_count": null,
   "id": "90317744",
   "metadata": {},
   "outputs": [],
   "source": [
    "clicked_1 = all_train.filter(pl.col('clicked') == 1)\n",
    "\n",
    "clicked_0 = all_train.filter(pl.col('clicked') == 0).sample(\n",
    "    n=len(clicked_1) * 9,  # 클릭 한 거에 9배 정도로 -> 1:9, 총 ~200만개 정도\n",
    "    seed=42\n",
    ")\n",
    "\n",
    "#train = pl.concat([clicked_1, clicked_0]).sample(\n",
    "#    fraction=1.0,  # frac 대신 fraction 사용\n",
    "#    seed=42\n",
    "#)\n",
    "\n",
    "#train_pd = train.to_pandas()\n",
    "#train_pd = all_train.to_pandas()\n",
    "#test_pd = test.to_pandas()\n",
    "#train = train_pd.copy()\n",
    "#test = test_pd.copy()"
   ]
  },
  {
   "cell_type": "code",
   "execution_count": null,
   "id": "4ee3e57b",
   "metadata": {},
   "outputs": [
    {
     "ename": "AttributeError",
     "evalue": "'DataFrame' object has no attribute 'copy'",
     "output_type": "error",
     "traceback": [
      "\u001b[0;31m---------------------------------------------------------------------------\u001b[0m",
      "\u001b[0;31mAttributeError\u001b[0m                            Traceback (most recent call last)",
      "Cell \u001b[0;32mIn[7], line 1\u001b[0m\n\u001b[0;32m----> 1\u001b[0m train \u001b[38;5;241m=\u001b[39m \u001b[43mall_train\u001b[49m\u001b[38;5;241;43m.\u001b[39;49m\u001b[43mcopy\u001b[49m()\n\u001b[1;32m      2\u001b[0m test \u001b[38;5;241m=\u001b[39m test\u001b[38;5;241m.\u001b[39mcopy()\n\u001b[1;32m      4\u001b[0m \u001b[38;5;28mprint\u001b[39m(train\u001b[38;5;241m.\u001b[39mshape, test\u001b[38;5;241m.\u001b[39mshape)\n",
      "\u001b[0;31mAttributeError\u001b[0m: 'DataFrame' object has no attribute 'copy'"
     ]
    },
    {
     "ename": "",
     "evalue": "",
     "output_type": "error",
     "traceback": [
      "\u001b[1;31mThe Kernel crashed while executing code in the current cell or a previous cell. \n",
      "\u001b[1;31mPlease review the code in the cell(s) to identify a possible cause of the failure. \n",
      "\u001b[1;31mClick <a href='https://aka.ms/vscodeJupyterKernelCrash'>here</a> for more info. \n",
      "\u001b[1;31mView Jupyter <a href='command:jupyter.viewOutput'>log</a> for further details."
     ]
    }
   ],
   "source": [
    "train = all_train.copy()\n",
    "test = test.copy()\n",
    "\n",
    "print(train.shape, test.shape)"
   ]
  },
  {
   "cell_type": "markdown",
   "id": "bba30a22",
   "metadata": {},
   "source": [
    "# 결측치 확인 및 제거"
   ]
  },
  {
   "cell_type": "code",
   "execution_count": 6,
   "id": "b8360eb1",
   "metadata": {},
   "outputs": [
    {
     "name": "stdout",
     "output_type": "stream",
     "text": [
      "3272 ['gender', 'age_group', 'l_feat_2', 'l_feat_8', 'l_feat_18', 'l_feat_19', 'l_feat_20', 'l_feat_21', 'l_feat_22', 'l_feat_23', 'l_feat_24', 'feat_e_1', 'feat_e_2', 'feat_e_4', 'feat_e_5', 'feat_e_6', 'feat_e_7', 'feat_e_8', 'feat_e_9', 'feat_e_10', 'feat_d_1', 'feat_d_2', 'feat_d_3', 'feat_d_4', 'feat_d_5', 'feat_d_6', 'feat_c_1', 'feat_c_2', 'feat_c_3', 'feat_c_4', 'feat_c_5', 'feat_c_6', 'feat_c_7', 'feat_c_8', 'feat_b_1', 'feat_b_2', 'feat_b_3', 'feat_b_4', 'feat_b_5', 'feat_b_6', 'history_a_1', 'history_a_2', 'history_a_3', 'history_a_4', 'history_a_5', 'history_a_6', 'history_a_7', 'history_b_1', 'history_b_2', 'history_b_3', 'history_b_4', 'history_b_5', 'history_b_6', 'history_b_7', 'history_b_8', 'history_b_9', 'history_b_10', 'history_b_11', 'history_b_12', 'history_b_13', 'history_b_14', 'history_b_15', 'history_b_16', 'history_b_17', 'history_b_18', 'history_b_19', 'history_b_20', 'history_b_21', 'history_b_22', 'history_b_23', 'history_b_24', 'history_b_25', 'history_b_26', 'history_b_27', 'history_b_28', 'history_b_29', 'history_b_30']\n",
      "3600 ['feat_a_1', 'feat_a_2', 'feat_a_3', 'feat_a_4', 'feat_a_5', 'feat_a_6', 'feat_a_7', 'feat_a_8', 'feat_a_9', 'feat_a_10', 'feat_a_11', 'feat_a_12', 'feat_a_13', 'feat_a_14', 'feat_a_15', 'feat_a_16', 'feat_a_17', 'feat_a_18']\n",
      "207305 ['feat_e_3']\n"
     ]
    }
   ],
   "source": [
    "\n",
    "missing = train.isnull().sum()\n",
    "missing = missing[missing > 0]\n",
    "\n",
    "grouped = missing.groupby(missing).apply(lambda x: list(x.index))\n",
    "\n",
    "for count, cols in grouped.items():\n",
    "    print(count, cols)"
   ]
  },
  {
   "cell_type": "markdown",
   "id": "eac4f76c",
   "metadata": {},
   "source": [
    "- 3272 ['gender', 'age_group', 'l_feat_2', 'l_feat_8', 'l_feat_18', 'l_feat_19', 'l_feat_20', 'l_feat_21', 'l_feat_22', 'l_feat_23', 'l_feat_24', 'feat_e_1', 'feat_e_2', 'feat_e_4', 'feat_e_5', 'feat_e_6', 'feat_e_7', 'feat_e_8', 'feat_e_9', 'feat_e_10', 'feat_d_1', 'feat_d_2', 'feat_d_3', 'feat_d_4', 'feat_d_5', 'feat_d_6', 'feat_c_1', 'feat_c_2', 'feat_c_3', 'feat_c_4', 'feat_c_5', 'feat_c_6', 'feat_c_7', 'feat_c_8', 'feat_b_1', 'feat_b_2', 'feat_b_3', 'feat_b_4', 'feat_b_5', 'feat_b_6', 'history_a_1', 'history_a_2', 'history_a_3', 'history_a_4', 'history_a_5', 'history_a_6', 'history_a_7', 'history_b_1', 'history_b_2', 'history_b_3', 'history_b_4', 'history_b_5', 'history_b_6', 'history_b_7', 'history_b_8', 'history_b_9', 'history_b_10', 'history_b_11', 'history_b_12', 'history_b_13', 'history_b_14', 'history_b_15', 'history_b_16', 'history_b_17', 'history_b_18', 'history_b_19', 'history_b_20', 'history_b_21', 'history_b_22', 'history_b_23', 'history_b_24', 'history_b_25', 'history_b_26', 'history_b_27', 'history_b_28', 'history_b_29', 'history_b_30']\n",
    "- 3600 ['feat_a_1', 'feat_a_2', 'feat_a_3', 'feat_a_4', 'feat_a_5', 'feat_a_6', 'feat_a_7', 'feat_a_8', 'feat_a_9', 'feat_a_10', 'feat_a_11', 'feat_a_12', 'feat_a_13', 'feat_a_14', 'feat_a_15', 'feat_a_16', 'feat_a_17', 'feat_a_18']\n",
    "- 207305 ['feat_e_3']"
   ]
  },
  {
   "cell_type": "markdown",
   "id": "2cf5a70b",
   "metadata": {},
   "source": []
  },
  {
   "cell_type": "code",
   "execution_count": 7,
   "id": "2ab48217",
   "metadata": {},
   "outputs": [
    {
     "data": {
      "text/plain": [
       "np.True_"
      ]
     },
     "execution_count": 7,
     "metadata": {},
     "output_type": "execute_result"
    }
   ],
   "source": [
    "(train['gender'].isnull() == train['age_group'].isnull()).all()"
   ]
  },
  {
   "cell_type": "markdown",
   "id": "1aee205f",
   "metadata": {},
   "source": [
    " “gender랑 age_group은 결측 패턴이 100% 같다\n",
    " --- \n",
    ".all() 은 전부냐? 하는 확인하는 함수\n",
    "```\n",
    "arr = [True, True, False]\n",
    "print(all(arr))     # False\n",
    "```\n",
    "\n",
    "- train['gender'].isnull() → gender가 NaN인 곳을 True/False로 표시\n",
    "- train['age_group'].isnull() → age_group이 NaN인 곳을 True/False로 표시\n",
    "    - 비교 → 두 개가 같으면 True, 다르면 False\n",
    "    - .all() → 그 결과가 전부 True면 True 반환"
   ]
  },
  {
   "cell_type": "code",
   "execution_count": 8,
   "id": "6bbdfd8a",
   "metadata": {},
   "outputs": [
    {
     "data": {
      "text/plain": [
       "0    2038518\n",
       "4       3272\n",
       "Name: count, dtype: int64"
      ]
     },
     "execution_count": 8,
     "metadata": {},
     "output_type": "execute_result"
    }
   ],
   "source": [
    "cols = ['gender', 'age_group', 'l_feat_2','feat_e_4']\n",
    "train[cols].isnull().sum(axis=1).value_counts()"
   ]
  },
  {
   "cell_type": "markdown",
   "id": "10f2fc9e",
   "metadata": {},
   "source": [
    "- 0 → 2,038,518개의 행에서는 네 컬럼(gender, age_group, l_feat_2, feat_e_4) 모두 결측치 없음.\n",
    "- 3 → 3,272개의 행에서는 네 컬럼 모두 동시에 결측치(NaN).\n"
   ]
  },
  {
   "cell_type": "code",
   "execution_count": 9,
   "id": "c9125c2a",
   "metadata": {},
   "outputs": [
    {
     "name": "stdout",
     "output_type": "stream",
     "text": [
      "(2038518, 119)\n",
      "(1526362, 119)\n"
     ]
    }
   ],
   "source": [
    "train = train.dropna(subset=cols)\n",
    "print(train.shape)\n",
    "\n",
    "test = test.dropna(subset=cols)\n",
    "print(test.shape)"
   ]
  },
  {
   "cell_type": "markdown",
   "id": "c715ecef",
   "metadata": {},
   "source": [
    "train: 3272 개의 행 제거 / train: 936 행 제거"
   ]
  },
  {
   "cell_type": "code",
   "execution_count": 31,
   "id": "8c0029f4",
   "metadata": {},
   "outputs": [
    {
     "name": "stdout",
     "output_type": "stream",
     "text": [
      "328 ['feat_a_1', 'feat_a_2', 'feat_a_3', 'feat_a_4', 'feat_a_5', 'feat_a_6', 'feat_a_7', 'feat_a_8', 'feat_a_9', 'feat_a_10', 'feat_a_11', 'feat_a_12', 'feat_a_13', 'feat_a_14', 'feat_a_15', 'feat_a_16', 'feat_a_17', 'feat_a_18']\n",
      "205183 ['feat_e_3']\n"
     ]
    }
   ],
   "source": [
    "\n",
    "missing = train.isnull().sum()\n",
    "missing = missing[missing > 0]\n",
    "\n",
    "grouped = missing.groupby(missing).apply(lambda x: list(x.index))\n",
    "\n",
    "for count, cols in grouped.items():\n",
    "    print(count, cols)"
   ]
  },
  {
   "cell_type": "code",
   "execution_count": 32,
   "id": "7b725f75",
   "metadata": {},
   "outputs": [
    {
     "data": {
      "text/plain": [
       "0     2038190\n",
       "18        328\n",
       "Name: count, dtype: int64"
      ]
     },
     "execution_count": 32,
     "metadata": {},
     "output_type": "execute_result"
    }
   ],
   "source": [
    "cols = ['feat_a_1', 'feat_a_2', 'feat_a_3', 'feat_a_4', 'feat_a_5', 'feat_a_6', 'feat_a_7', 'feat_a_8', 'feat_a_9', 'feat_a_10', 'feat_a_11', 'feat_a_12', 'feat_a_13', 'feat_a_14', 'feat_a_15', 'feat_a_16', 'feat_a_17', 'feat_a_18']\n",
    "train[cols].isnull().sum(axis=1).value_counts()"
   ]
  },
  {
   "cell_type": "code",
   "execution_count": 14,
   "id": "a6b9c1fd",
   "metadata": {},
   "outputs": [
    {
     "name": "stdout",
     "output_type": "stream",
     "text": [
      "(2038190, 118)\n",
      "(1526192, 118)\n"
     ]
    }
   ],
   "source": [
    "train = train[train[cols].notnull().all(axis=1)]\n",
    "print(train.shape)\n",
    "\n",
    "test = test[test[cols].notnull().all(axis=1)]\n",
    "print(test.shape)"
   ]
  },
  {
   "cell_type": "code",
   "execution_count": 79,
   "id": "c45f0b77",
   "metadata": {},
   "outputs": [
    {
     "data": {
      "text/html": [
       "<div>\n",
       "<style scoped>\n",
       "    .dataframe tbody tr th:only-of-type {\n",
       "        vertical-align: middle;\n",
       "    }\n",
       "\n",
       "    .dataframe tbody tr th {\n",
       "        vertical-align: top;\n",
       "    }\n",
       "\n",
       "    .dataframe thead th {\n",
       "        text-align: right;\n",
       "    }\n",
       "</style>\n",
       "<table border=\"1\" class=\"dataframe\">\n",
       "  <thead>\n",
       "    <tr style=\"text-align: right;\">\n",
       "      <th></th>\n",
       "      <th>gender</th>\n",
       "      <th>age_group</th>\n",
       "      <th>inventory_id</th>\n",
       "      <th>day_of_week</th>\n",
       "      <th>hour</th>\n",
       "      <th>seq</th>\n",
       "      <th>l_feat_1</th>\n",
       "      <th>l_feat_2</th>\n",
       "      <th>l_feat_3</th>\n",
       "      <th>l_feat_4</th>\n",
       "      <th>...</th>\n",
       "      <th>history_b_22</th>\n",
       "      <th>history_b_23</th>\n",
       "      <th>history_b_24</th>\n",
       "      <th>history_b_25</th>\n",
       "      <th>history_b_26</th>\n",
       "      <th>history_b_27</th>\n",
       "      <th>history_b_28</th>\n",
       "      <th>history_b_29</th>\n",
       "      <th>history_b_30</th>\n",
       "      <th>clicked</th>\n",
       "    </tr>\n",
       "  </thead>\n",
       "  <tbody>\n",
       "    <tr>\n",
       "      <th>0</th>\n",
       "      <td>1.0</td>\n",
       "      <td>7.0</td>\n",
       "      <td>29</td>\n",
       "      <td>5</td>\n",
       "      <td>18</td>\n",
       "      <td>NaN</td>\n",
       "      <td>2.0</td>\n",
       "      <td>2.0</td>\n",
       "      <td>3.0</td>\n",
       "      <td>7.0</td>\n",
       "      <td>...</td>\n",
       "      <td>0.270270</td>\n",
       "      <td>0.270270</td>\n",
       "      <td>0.045045</td>\n",
       "      <td>0.018018</td>\n",
       "      <td>0.168168</td>\n",
       "      <td>0.192192</td>\n",
       "      <td>0.060060</td>\n",
       "      <td>0.156156</td>\n",
       "      <td>0.198198</td>\n",
       "      <td>1</td>\n",
       "    </tr>\n",
       "    <tr>\n",
       "      <th>1</th>\n",
       "      <td>2.0</td>\n",
       "      <td>3.0</td>\n",
       "      <td>29</td>\n",
       "      <td>5</td>\n",
       "      <td>23</td>\n",
       "      <td>NaN</td>\n",
       "      <td>2.0</td>\n",
       "      <td>2.0</td>\n",
       "      <td>2.0</td>\n",
       "      <td>14.0</td>\n",
       "      <td>...</td>\n",
       "      <td>1.216215</td>\n",
       "      <td>1.216215</td>\n",
       "      <td>0.202703</td>\n",
       "      <td>0.081081</td>\n",
       "      <td>0.756756</td>\n",
       "      <td>0.864864</td>\n",
       "      <td>0.270270</td>\n",
       "      <td>0.702702</td>\n",
       "      <td>0.445946</td>\n",
       "      <td>1</td>\n",
       "    </tr>\n",
       "    <tr>\n",
       "      <th>2</th>\n",
       "      <td>1.0</td>\n",
       "      <td>8.0</td>\n",
       "      <td>41</td>\n",
       "      <td>5</td>\n",
       "      <td>17</td>\n",
       "      <td>NaN</td>\n",
       "      <td>2.0</td>\n",
       "      <td>2.0</td>\n",
       "      <td>2.0</td>\n",
       "      <td>19.0</td>\n",
       "      <td>...</td>\n",
       "      <td>0.037629</td>\n",
       "      <td>0.037629</td>\n",
       "      <td>0.006272</td>\n",
       "      <td>0.002509</td>\n",
       "      <td>0.023414</td>\n",
       "      <td>0.026758</td>\n",
       "      <td>0.008362</td>\n",
       "      <td>0.021741</td>\n",
       "      <td>0.068980</td>\n",
       "      <td>1</td>\n",
       "    </tr>\n",
       "    <tr>\n",
       "      <th>3</th>\n",
       "      <td>2.0</td>\n",
       "      <td>7.0</td>\n",
       "      <td>31</td>\n",
       "      <td>5</td>\n",
       "      <td>14</td>\n",
       "      <td>NaN</td>\n",
       "      <td>2.0</td>\n",
       "      <td>2.0</td>\n",
       "      <td>3.0</td>\n",
       "      <td>7.0</td>\n",
       "      <td>...</td>\n",
       "      <td>0.189072</td>\n",
       "      <td>0.189072</td>\n",
       "      <td>0.031512</td>\n",
       "      <td>0.012605</td>\n",
       "      <td>0.117645</td>\n",
       "      <td>0.134451</td>\n",
       "      <td>0.042016</td>\n",
       "      <td>0.109242</td>\n",
       "      <td>0.069326</td>\n",
       "      <td>1</td>\n",
       "    </tr>\n",
       "  </tbody>\n",
       "</table>\n",
       "<p>4 rows × 118 columns</p>\n",
       "</div>"
      ],
      "text/plain": [
       "   gender  age_group  inventory_id  day_of_week  hour  seq  l_feat_1  \\\n",
       "0     1.0        7.0            29            5    18  NaN       2.0   \n",
       "1     2.0        3.0            29            5    23  NaN       2.0   \n",
       "2     1.0        8.0            41            5    17  NaN       2.0   \n",
       "3     2.0        7.0            31            5    14  NaN       2.0   \n",
       "\n",
       "   l_feat_2  l_feat_3  l_feat_4  ...  history_b_22  history_b_23  \\\n",
       "0       2.0       3.0       7.0  ...      0.270270      0.270270   \n",
       "1       2.0       2.0      14.0  ...      1.216215      1.216215   \n",
       "2       2.0       2.0      19.0  ...      0.037629      0.037629   \n",
       "3       2.0       3.0       7.0  ...      0.189072      0.189072   \n",
       "\n",
       "   history_b_24  history_b_25  history_b_26  history_b_27  history_b_28  \\\n",
       "0      0.045045      0.018018      0.168168      0.192192      0.060060   \n",
       "1      0.202703      0.081081      0.756756      0.864864      0.270270   \n",
       "2      0.006272      0.002509      0.023414      0.026758      0.008362   \n",
       "3      0.031512      0.012605      0.117645      0.134451      0.042016   \n",
       "\n",
       "   history_b_29  history_b_30  clicked  \n",
       "0      0.156156      0.198198        1  \n",
       "1      0.702702      0.445946        1  \n",
       "2      0.021741      0.068980        1  \n",
       "3      0.109242      0.069326        1  \n",
       "\n",
       "[4 rows x 118 columns]"
      ]
     },
     "execution_count": 79,
     "metadata": {},
     "output_type": "execute_result"
    }
   ],
   "source": [
    "train.head(4)"
   ]
  },
  {
   "cell_type": "markdown",
   "id": "34b00c6b",
   "metadata": {},
   "source": [
    "train: 328개의 행 제거 / test: 0개의 행 제거"
   ]
  },
  {
   "cell_type": "code",
   "execution_count": 34,
   "id": "d8517bc5",
   "metadata": {},
   "outputs": [
    {
     "name": "stdout",
     "output_type": "stream",
     "text": [
      "205154 ['feat_e_3']\n"
     ]
    }
   ],
   "source": [
    "\n",
    "missing = train.isnull().sum()\n",
    "missing = missing[missing > 0]\n",
    "\n",
    "grouped = missing.groupby(missing).apply(lambda x: list(x.index))\n",
    "\n",
    "for count, cols in grouped.items():\n",
    "    print(count, cols)"
   ]
  },
  {
   "cell_type": "code",
   "execution_count": 12,
   "id": "0620fb99",
   "metadata": {},
   "outputs": [
    {
     "name": "stdout",
     "output_type": "stream",
     "text": [
      "(2038518, 118)\n",
      "(1526362, 118)\n"
     ]
    }
   ],
   "source": [
    "train = train.drop(columns = 'feat_e_3', axis = 1)\n",
    "print(train.shape)\n",
    "\n",
    "test = test.drop(columns = 'feat_e_3', axis = 1)\n",
    "print(test.shape)"
   ]
  },
  {
   "cell_type": "markdown",
   "id": "c209ae7e",
   "metadata": {},
   "source": [
    "trian, test 모두 1열 제거"
   ]
  },
  {
   "cell_type": "code",
   "execution_count": 15,
   "id": "7e89764a",
   "metadata": {},
   "outputs": [],
   "source": [
    "\n",
    "missing = train.isnull().sum()\n",
    "missing = missing[missing > 0]\n",
    "\n",
    "grouped = missing.groupby(missing).apply(lambda x: list(x.index))\n",
    "\n",
    "for count, cols in grouped.items():\n",
    "    print(count, cols)"
   ]
  },
  {
   "cell_type": "markdown",
   "id": "7314f752",
   "metadata": {},
   "source": [
    "# 결측치 제거 완"
   ]
  },
  {
   "cell_type": "code",
   "execution_count": 17,
   "id": "d863e992",
   "metadata": {},
   "outputs": [
    {
     "name": "stdout",
     "output_type": "stream",
     "text": [
      "(2038190, 118) (1526192, 118)\n"
     ]
    }
   ],
   "source": [
    "print(train.shape, test.shape)"
   ]
  },
  {
   "cell_type": "markdown",
   "id": "ff66c6f9",
   "metadata": {},
   "source": [
    "# 자료형 변경 및 수치형 특징 확인"
   ]
  },
  {
   "cell_type": "code",
   "execution_count": 25,
   "id": "734bb028",
   "metadata": {},
   "outputs": [
    {
     "name": "stdout",
     "output_type": "stream",
     "text": [
      "112 ['l_feat_1', 'l_feat_2', 'l_feat_3', 'l_feat_4', 'l_feat_5', 'l_feat_6', 'l_feat_7', 'l_feat_8', 'l_feat_9', 'l_feat_10', 'l_feat_11', 'l_feat_12', 'l_feat_13', 'l_feat_14', 'l_feat_15', 'l_feat_16', 'l_feat_17', 'l_feat_18', 'l_feat_19', 'l_feat_20', 'l_feat_21', 'l_feat_22', 'l_feat_23', 'l_feat_24', 'l_feat_25', 'l_feat_26', 'l_feat_27', 'feat_e_1', 'feat_e_2', 'feat_e_4', 'feat_e_5', 'feat_e_6', 'feat_e_7', 'feat_e_8', 'feat_e_9', 'feat_e_10', 'feat_d_1', 'feat_d_2', 'feat_d_3', 'feat_d_4', 'feat_d_5', 'feat_d_6', 'feat_c_1', 'feat_c_2', 'feat_c_3', 'feat_c_4', 'feat_c_5', 'feat_c_6', 'feat_c_7', 'feat_c_8', 'feat_b_1', 'feat_b_2', 'feat_b_3', 'feat_b_4', 'feat_b_5', 'feat_b_6', 'feat_a_1', 'feat_a_2', 'feat_a_3', 'feat_a_4', 'feat_a_5', 'feat_a_6', 'feat_a_7', 'feat_a_8', 'feat_a_9', 'feat_a_10', 'feat_a_11', 'feat_a_12', 'feat_a_13', 'feat_a_14', 'feat_a_15', 'feat_a_16', 'feat_a_17', 'feat_a_18', 'history_a_1', 'history_a_2', 'history_a_3', 'history_a_4', 'history_a_5', 'history_a_6', 'history_a_7', 'history_b_1', 'history_b_2', 'history_b_3', 'history_b_4', 'history_b_5', 'history_b_6', 'history_b_7', 'history_b_8', 'history_b_9', 'history_b_10', 'history_b_11', 'history_b_12', 'history_b_13', 'history_b_14', 'history_b_15', 'history_b_16', 'history_b_17', 'history_b_18', 'history_b_19', 'history_b_20', 'history_b_21', 'history_b_22', 'history_b_23', 'history_b_24', 'history_b_25', 'history_b_26', 'history_b_27', 'history_b_28', 'history_b_29', 'history_b_30', 'clicked']\n",
      "6 ['gender', 'age_group', 'inventory_id', 'day_of_week', 'hour', 'seq']\n"
     ]
    }
   ],
   "source": [
    "numerical_cols = train.select_dtypes(include=[np.number]).columns.tolist()\n",
    "print(len(numerical_cols), numerical_cols)\n",
    "\n",
    "object_cols = train.select_dtypes(include='object').columns.tolist()\n",
    "print(len(object_cols), object_cols)"
   ]
  },
  {
   "cell_type": "code",
   "execution_count": 27,
   "id": "c894b24d",
   "metadata": {},
   "outputs": [],
   "source": [
    "for col in object_cols:\n",
    "    train[col] = pd.to_numeric(train[col], errors='coerce')\n",
    "    test[col] = pd.to_numeric(test[col], errors='coerce')"
   ]
  },
  {
   "cell_type": "code",
   "execution_count": 29,
   "id": "312be3bd",
   "metadata": {},
   "outputs": [
    {
     "name": "stdout",
     "output_type": "stream",
     "text": [
      "0 []\n"
     ]
    }
   ],
   "source": [
    "object_cols = train.select_dtypes(include='object').columns.tolist()\n",
    "print(len(object_cols), object_cols)   "
   ]
  },
  {
   "cell_type": "code",
   "execution_count": 47,
   "id": "60c6bd84",
   "metadata": {},
   "outputs": [
    {
     "name": "stdout",
     "output_type": "stream",
     "text": [
      "['gender', 'age_group', 'inventory_id', 'day_of_week', 'hour', 'seq']\n",
      "['l_feat_1', 'l_feat_2', 'l_feat_3', 'l_feat_4', 'l_feat_5', 'l_feat_6', 'l_feat_7', 'l_feat_8', 'l_feat_9', 'l_feat_10', 'l_feat_11', 'l_feat_12', 'l_feat_13', 'l_feat_14', 'l_feat_15', 'l_feat_16', 'l_feat_17', 'l_feat_18', 'l_feat_19', 'l_feat_20', 'l_feat_21', 'l_feat_22', 'l_feat_23', 'l_feat_24', 'l_feat_25', 'l_feat_26', 'l_feat_27']\n",
      "['feat_e_1', 'feat_e_2', 'feat_e_4', 'feat_e_5', 'feat_e_6', 'feat_e_7', 'feat_e_8', 'feat_e_9', 'feat_e_10', 'feat_d_1', 'feat_d_2', 'feat_d_3', 'feat_d_4', 'feat_d_5', 'feat_d_6', 'feat_c_1', 'feat_c_2', 'feat_c_3', 'feat_c_4', 'feat_c_5', 'feat_c_6', 'feat_c_7', 'feat_c_8', 'feat_b_1', 'feat_b_2', 'feat_b_3', 'feat_b_4', 'feat_b_5', 'feat_b_6', 'feat_a_1', 'feat_a_2', 'feat_a_3', 'feat_a_4', 'feat_a_5', 'feat_a_6', 'feat_a_7', 'feat_a_8', 'feat_a_9', 'feat_a_10', 'feat_a_11', 'feat_a_12', 'feat_a_13', 'feat_a_14', 'feat_a_15', 'feat_a_16', 'feat_a_17', 'feat_a_18']\n",
      "['history_a_1', 'history_a_2', 'history_a_3', 'history_a_4', 'history_a_5', 'history_a_6', 'history_a_7', 'history_b_1', 'history_b_2', 'history_b_3', 'history_b_4', 'history_b_5', 'history_b_6', 'history_b_7', 'history_b_8', 'history_b_9', 'history_b_10', 'history_b_11', 'history_b_12', 'history_b_13', 'history_b_14', 'history_b_15', 'history_b_16', 'history_b_17', 'history_b_18', 'history_b_19', 'history_b_20', 'history_b_21', 'history_b_22', 'history_b_23', 'history_b_24', 'history_b_25', 'history_b_26', 'history_b_27', 'history_b_28', 'history_b_29', 'history_b_30']\n",
      "clicked\n"
     ]
    }
   ],
   "source": [
    "cols = train.columns.to_list()\n",
    "print(cols[0:6])   # 6개 : ['gender', 'age_group', 'inventory_id', 'day_of_week', 'hour', 'seq']\n",
    "print(cols[6:33])  #27개 : ['l_feat_1', 'l_feat_2', 'l_feat_3',.... 'l_feat_27']\n",
    "print(cols[33:80]) #47개 : ['feat_e_1', 'feat_e_2', 'feat_e_4', ... 'feat_a_18']\n",
    "print(cols[80:-1]) #37개  : ['history_a_1', 'history_a_2', 'history_a_3',...'history_b_30']\n",
    "print(cols[-1])    #1개 : clicked"
   ]
  },
  {
   "cell_type": "code",
   "execution_count": 19,
   "id": "5fd4b6e4",
   "metadata": {},
   "outputs": [
    {
     "name": "stdout",
     "output_type": "stream",
     "text": [
      "user_profile 2\n",
      "context 4\n",
      "ad_attributes 27\n",
      "interaction_a 18\n",
      "interaction_b 6\n",
      "interaction_c 8\n",
      "interaction_d 6\n",
      "interaction_e 9\n",
      "historical_a 7\n",
      "historical_b 30\n"
     ]
    }
   ],
   "source": [
    "feature_groups = {\n",
    "        'user_profile': ['gender', 'age_group'],\n",
    "        'context': ['inventory_id', 'day_of_week', 'hour', 'seq'],\n",
    "        'ad_attributes': [col for col in train.columns if col.startswith('l_feat_')],\n",
    "        'interaction_a': [col for col in train.columns if col.startswith('feat_a_')],\n",
    "        'interaction_b': [col for col in train.columns if col.startswith('feat_b_')],\n",
    "        'interaction_c': [col for col in train.columns if col.startswith('feat_c_')],\n",
    "        'interaction_d': [col for col in train.columns if col.startswith('feat_d_')],\n",
    "        'interaction_e': [col for col in train.columns if col.startswith('feat_e_')],\n",
    "        'historical_a': [col for col in train.columns if col.startswith('history_a_')],\n",
    "        'historical_b': [col for col in train.columns if col.startswith('history_b_')]\n",
    "    }\n",
    "\n",
    "for group, features in feature_groups.items():\n",
    "    print(group, len(features))"
   ]
  },
  {
   "cell_type": "code",
   "execution_count": 53,
   "id": "f57083c8",
   "metadata": {},
   "outputs": [
    {
     "name": "stdout",
     "output_type": "stream",
     "text": [
      "          총_샘플수     클릭수     클릭률  클릭률(분산)\n",
      "gender                                  \n",
      "1.0     1281880  130593  0.1019   0.3025\n",
      "2.0      756310   73070  0.0966   0.2954\n"
     ]
    }
   ],
   "source": [
    "# 성별 분석\n",
    "gender_stats = train.groupby('gender').agg({\n",
    "    'clicked': ['count', 'sum', 'mean','std']\n",
    "}).round(4)\n",
    "gender_stats.columns = ['총_샘플수', '클릭수', '클릭률', '클릭률(분산)']\n",
    "\n",
    "print(gender_stats)"
   ]
  },
  {
   "cell_type": "markdown",
   "id": "07dedf9f",
   "metadata": {},
   "source": [
    "- 1인 성별이 2인 성별보다 기본적으로 많고, 그렇게 차이가 있나...? 싶다. \n",
    "- 각각 0.1, 0.09 의 클릭율로보아 성별에 따른 클릭수 차이는 크지 않음"
   ]
  },
  {
   "cell_type": "code",
   "execution_count": 52,
   "id": "54269aab",
   "metadata": {},
   "outputs": [
    {
     "name": "stdout",
     "output_type": "stream",
     "text": [
      "\n",
      "📊 연령그룹 통계:\n",
      "            총_샘플수    클릭수     클릭률  클릭률(분산)\n",
      "age_group                                \n",
      "1.0          6673   1930  0.2892   0.4534\n",
      "8.0        512844  60614  0.1182   0.3228\n",
      "2.0         69664   8026  0.1152   0.3193\n",
      "3.0         91581   9245  0.1009   0.3013\n",
      "4.0        105476  10353  0.0982   0.2975\n",
      "7.0        701296  64800  0.0924   0.2896\n",
      "5.0        112430  10276  0.0914   0.2882\n",
      "6.0        438226  38419  0.0877   0.2828\n"
     ]
    }
   ],
   "source": [
    "# 연령그룹 분석\n",
    "age_stats = train.groupby('age_group').agg({\n",
    "    'clicked': ['count', 'sum', 'mean','std']\n",
    "}).round(4)\n",
    "age_stats.columns = ['총_샘플수', '클릭수', '클릭률', '클릭률(분산)']\n",
    "\n",
    "print(f\"\\n📊 연령그룹 통계:\")\n",
    "print(age_stats.sort_values('클릭률', ascending=False))"
   ]
  },
  {
   "cell_type": "markdown",
   "id": "e20b2a34",
   "metadata": {},
   "source": [
    "- 1번 그룹이 클릭율이 나머지 그룹의 3배 높은 클릭률! 매우 높은것으로 보아 20대?30 대가 아닐까?? 싶음 \n",
    "- 1, 8, 2, 3, 4, 7, 5, 6 순으로 클릭율이 낮아짐\n",
    "- 6번 그룹이 클랙율이 가장 낮은것으로 보아 연령층이 높은 곳이 아닐까?? 싶음\n",
    "\n",
    "--- \n",
    "1. 🥇 age_group 1.0: 28.92% (특이케이스)\n",
    "2. 🥈 age_group 8.0: 11.82% (51만명 - 메인타겟) \n",
    "3. 🥉 age_group 2.0: 11.52% (7만명)\n",
    "4. 4위 age_group 3.0: 10.09%\n",
    "5. 5위 age_group 4.0: 9.82%\n",
    "...최하위 age_group 6.0: 8.77%\n",
    "--- \n",
    "피처 엔지니어링: \n",
    "```\n",
    "# 연령 기반 새 피처들\n",
    "df['age_tier'] = df['age_group'].map({\n",
    "    1.0: 'PREMIUM',   # 28.9% CTR\n",
    "    8.0: 'HIGH',      # 11.8% CTR  \n",
    "    2.0: 'HIGH',      # 11.5% CTR\n",
    "    3.0: 'MID',       # 10.1% CTR\n",
    "    4.0: 'MID',       # 9.8% CTR\n",
    "    7.0: 'LOW',       # 9.2% CTR\n",
    "    5.0: 'LOW',       # 9.1% CTR\n",
    "    6.0: 'LOW'        # 8.8% CTR\n",
    "})\n",
    "```\n",
    "아니면 ```df[is_age_1] or not``` 으로 시도해볼 수 있을 듯\n",
    "\n",
    "\n",
    "--- \n",
    "\n",
    "https://dacon.io/competitions/official/236575/talkboard/415131?page=1&dtype=recent\n"
   ]
  },
  {
   "cell_type": "code",
   "execution_count": 55,
   "id": "ccb7b3bd",
   "metadata": {},
   "outputs": [
    {
     "name": "stdout",
     "output_type": "stream",
     "text": [
      "                   총_샘플수    클릭수     클릭률  클릭률(분산)\n",
      "gender age_group                                \n",
      "1.0    1.0          4050   1217  0.3005   0.4585\n",
      "2.0    1.0          2623    713  0.2718   0.4450\n",
      "       2.0         29667   3774  0.1272   0.3332\n",
      "1.0    8.0        346326  41586  0.1201   0.3251\n",
      "2.0    8.0        166518  19028  0.1143   0.3181\n",
      "       3.0         39903   4325  0.1084   0.3109\n",
      "1.0    2.0         39997   4252  0.1063   0.3082\n",
      "2.0    4.0         44325   4567  0.1030   0.3040\n",
      "1.0    7.0        454938  43633  0.0959   0.2945\n",
      "       3.0         51678   4920  0.0952   0.2935\n",
      "       4.0         61151   5786  0.0946   0.2927\n",
      "       5.0         64533   5899  0.0914   0.2882\n",
      "2.0    5.0         47897   4377  0.0914   0.2882\n",
      "1.0    6.0        259207  23300  0.0899   0.2860\n",
      "2.0    7.0        246358  21167  0.0859   0.2802\n",
      "       6.0        179019  15119  0.0845   0.2781\n"
     ]
    }
   ],
   "source": [
    "gender_age_stats = train.groupby(['gender', 'age_group']).agg({\n",
    "    'clicked': ['count', 'sum', 'mean', 'std']\n",
    "}).round(4)\n",
    "\n",
    "# 컬럼 이름 바꾸기\n",
    "gender_age_stats.columns = ['총_샘플수', '클릭수', '클릭률', '클릭률(분산)']\n",
    "\n",
    "print(gender_age_stats.sort_values('클릭률', ascending=False))\n"
   ]
  },
  {
   "cell_type": "markdown",
   "id": "a4e70995",
   "metadata": {},
   "source": [
    "\n",
    "### 🔥 최고 성과: sex 1.0 + age_group 1.0 = 30.05% CTR\n",
    "### 🔥 2위 성과: sex 2.0 + age_group 1.0 = 27.18% CTR\n",
    "#### age_group 1.0은 성별 무관하게 \"골든 세그먼트\"\n",
    "\n",
    "💦 성별 2 이고 나이그룹 6일때 가장 클릭율이 낮음\n",
    "\n",
    "- 나이그룹 1의 경우 성별이 1일때 2보다 살짝 더 높음  \n",
    "- 나이그룹 2의 경우 성별이 2일때 훨씬 클릭율이 높음 (0.3332 , 0.3082)\n",
    "- 나이그룹 3의 경우 성별이 2일때 더 높음 (0.3109, 0.2935)\n",
    "- 나이그룹 4의 경우, 성별이 2일때 더 높음 (0.3040, 0.2927)\n",
    "... \n",
    "- 나머지는 다 비슷 비슷\n",
    "\n",
    "--- \n",
    "## 개인화 전략 써볼 수 있음\n",
    "```\n",
    "def get_personalized_ctr_boost(gender, age_group):\n",
    "    \"\"\"성별×연령 조합별 CTR 부스트 계수\"\"\"\n",
    "    \n",
    "    boost_matrix = {\n",
    "        (1.0, 1.0): 3.0,  # sex1×age1 → 3배 부스트\n",
    "        (2.0, 1.0): 2.7,  # sex2×age1 → 2.7배 부스트  \n",
    "        (2.0, 2.0): 1.3,  # sex2×age2 → 1.3배 부스트\n",
    "        (1.0, 8.0): 1.2,  # sex1×age8 → 1.2배 부스트\n",
    "        # ... 기본값 1.0\n",
    "    }\n",
    "    \n",
    "    return boost_matrix.get((gender, age_group), 1.0)\n",
    "\n",
    "```\n",
    "\n",
    "- 🎯 과적합 위험: 작은 세그먼트 과신 금지\n",
    "- 🎯 콜드스타트: 신규 성별×연령 조합 대응방안 필요\n",
    "- 🎯 정규화: 극단적 CTR 값들 스무딩 고려"
   ]
  },
  {
   "cell_type": "code",
   "execution_count": 63,
   "id": "bce0b0da",
   "metadata": {},
   "outputs": [
    {
     "data": {
      "text/plain": [
       "inventory_id\n",
       "2     478139\n",
       "36    284788\n",
       "37    278844\n",
       "42    195325\n",
       "29    194831\n",
       "46    154650\n",
       "88    138150\n",
       "43     84863\n",
       "31     84119\n",
       "11     59184\n",
       "41     48490\n",
       "91     19780\n",
       "39      6675\n",
       "19      4857\n",
       "8       3847\n",
       "95       939\n",
       "92       511\n",
       "21       198\n",
       "Name: count, dtype: int64"
      ]
     },
     "execution_count": 63,
     "metadata": {},
     "output_type": "execute_result"
    }
   ],
   "source": [
    "train['inventory_id'].value_counts(ascending=False)"
   ]
  },
  {
   "cell_type": "markdown",
   "id": "e71b675a",
   "metadata": {},
   "source": [
    "지면의 경우, 2번 지면의 갯수가 가장 많았고 그 뒤로 36번 37번 42번...\n"
   ]
  },
  {
   "cell_type": "markdown",
   "id": "3513ac63",
   "metadata": {},
   "source": [
    "## 🎯 \"누구에게 어떤 지면에서 광고를 보여줄까?\" 를 아래의 지표에서 볼 수 있음"
   ]
  },
  {
   "cell_type": "code",
   "execution_count": 73,
   "id": "8d419fcd",
   "metadata": {},
   "outputs": [
    {
     "name": "stdout",
     "output_type": "stream",
     "text": [
      "                      총_샘플수    클릭수     클릭률  클릭률(분산)\n",
      "gender inventory_id                                \n",
      "1.0    2             314342  15371  0.0489   0.2157\n",
      "       8               2766    107  0.0387   0.1929\n",
      "       11             36678   2414  0.0658   0.2480\n",
      "       19              2782    235  0.0845   0.2781\n",
      "       21               104     28  0.2692   0.4457\n",
      "       29            117320  13158  0.1122   0.3156\n",
      "       31             36456   4567  0.1253   0.3310\n",
      "       36            185300  15192  0.0820   0.2743\n",
      "       37            188086  28595  0.1520   0.3591\n",
      "       39              3196    294  0.0920   0.2891\n",
      "       41             32451   6445  0.1986   0.3990\n",
      "       42            129792  16491  0.1271   0.3330\n",
      "       43             56327   4741  0.0842   0.2776\n",
      "       46             99821   8723  0.0874   0.2824\n",
      "       88             64821  12583  0.1941   0.3955\n",
      "       91             10868   1530  0.1408   0.3478\n",
      "       92               269     66  0.2454   0.4311\n",
      "       95               501     53  0.1058   0.3079\n",
      "2.0    2             163797   7695  0.0470   0.2116\n",
      "       8               1081     46  0.0426   0.2019\n",
      "       11             22506   1147  0.0510   0.2199\n",
      "       19              2075    184  0.0887   0.2843\n",
      "       21                94     27  0.2872   0.4549\n",
      "       29             77511   8334  0.1075   0.3098\n",
      "       31             47663   5381  0.1129   0.3165\n",
      "       36             99488   7725  0.0776   0.2676\n",
      "       37             90758  13133  0.1447   0.3518\n",
      "       39              3479    317  0.0911   0.2878\n",
      "       41             16039   2106  0.1313   0.3377\n",
      "       42             65533   5919  0.0903   0.2866\n",
      "       43             28536   2233  0.0783   0.2686\n",
      "       46             54829   4542  0.0828   0.2756\n",
      "       88             73329  12994  0.1772   0.3818\n",
      "       91              8912   1172  0.1315   0.3380\n",
      "       92               242     73  0.3017   0.4599\n",
      "       95               438     42  0.0959   0.2948\n"
     ]
    },
    {
     "data": {
      "image/png": "[encoded data removed]",
      "text/plain": [
       "<Figure size 1600x600 with 1 Axes>"
      ]
     },
     "metadata": {},
     "output_type": "display_data"
    }
   ],
   "source": [
    "import matplotlib.pyplot as plt\n",
    "import seaborn as sns\n",
    "\n",
    "gender_age_stats = train.groupby(['gender', 'inventory_id']).agg({\n",
    "    'clicked': ['count', 'sum', 'mean', 'std']\n",
    "}).round(4)\n",
    "\n",
    "gender_age_stats.columns = ['총_샘플수', '클릭수', '클릭률', '클릭률(분산)']\n",
    "\n",
    "print(gender_age_stats)\n",
    "\n",
    "# Reset index → gender와 inventory_id를 컬럼으로\n",
    "gender_inv_stats = gender_age_stats.reset_index()\n",
    "\n",
    "plt.figure(figsize=(16,6))\n",
    "sns.barplot(\n",
    "    data=gender_inv_stats,\n",
    "    x='inventory_id',\n",
    "    y='클릭률',\n",
    "    hue='gender'\n",
    ")\n",
    "plt.title('Gender + Inventory click rate', fontsize=16)\n",
    "plt.ylabel('click rate')\n",
    "plt.xlabel('Inventory ID')\n",
    "plt.xticks(rotation=45)\n",
    "plt.legend(title='Gender')\n",
    "plt.show()"
   ]
  },
  {
   "cell_type": "markdown",
   "id": "25796625",
   "metadata": {},
   "source": [
    "- Inventory id 21, 92번의 지면 경우 클릭율이 높았다.\n",
    "- 다들 또이 또이 한 가운데, 41번의 경우 성별 1의 클릭율이 높고, 92의 경우 성별 2의 클릭율이 유독 높았다"
   ]
  },
  {
   "cell_type": "code",
   "execution_count": 75,
   "id": "17d16617",
   "metadata": {},
   "outputs": [
    {
     "name": "stdout",
     "output_type": "stream",
     "text": [
      "                        총_샘플수   클릭수     클릭률  클릭률(분산)\n",
      "age_group inventory_id                              \n",
      "1.0       2               826   217  0.2627   0.4404\n",
      "          8                 1     0  0.0000      NaN\n",
      "          11              166    41  0.2470   0.4326\n",
      "          19               71    22  0.3099   0.4657\n",
      "          21                3     3  1.0000   0.0000\n",
      "...                       ...   ...     ...      ...\n",
      "8.0       46            45448  4487  0.0987   0.2983\n",
      "          88            12894  3481  0.2700   0.4440\n",
      "          91             2140   525  0.2453   0.4304\n",
      "          92               94    28  0.2979   0.4598\n",
      "          95               99    14  0.1414   0.3502\n",
      "\n",
      "[144 rows x 4 columns]\n"
     ]
    },
    {
     "data": {
      "image/png": "[encoded data removed]",
      "text/plain": [
       "<Figure size 1600x600 with 1 Axes>"
      ]
     },
     "metadata": {},
     "output_type": "display_data"
    }
   ],
   "source": [
    "import matplotlib.pyplot as plt\n",
    "import seaborn as sns\n",
    "\n",
    "gender_age_stats = train.groupby(['age_group', 'inventory_id']).agg({\n",
    "    'clicked': ['count', 'sum', 'mean', 'std']\n",
    "}).round(4)\n",
    "\n",
    "# 컬럼 이름 바꾸기\n",
    "gender_age_stats.columns = ['총_샘플수', '클릭수', '클릭률', '클릭률(분산)']\n",
    "\n",
    "print(gender_age_stats)\n",
    "\n",
    "# Reset index → gender와 inventory_id를 컬럼으로\n",
    "gender_inv_stats = gender_age_stats.reset_index()\n",
    "\n",
    "plt.figure(figsize=(16,6))\n",
    "sns.barplot(\n",
    "    data=gender_inv_stats,\n",
    "    x='inventory_id',\n",
    "    y='클릭률',\n",
    "    hue='age_group'\n",
    ")\n",
    "plt.title('age_group + Inventory click rate', fontsize=16)\n",
    "plt.ylabel('click rate')\n",
    "plt.xlabel('Inventory ID')\n",
    "plt.xticks(rotation=45)\n",
    "plt.legend(title='age_group')\n",
    "plt.show()\n",
    "\n",
    "\n"
   ]
  },
  {
   "cell_type": "markdown",
   "id": "6991ac5d",
   "metadata": {},
   "source": [
    "\n",
    "### 🔥 age_group 1.5 × inventory_id 21 = 거의 100% CTR!\n",
    "\n",
    "### 📱 각 지면의 타겟 연령이 극명하게 갈림:\n",
    "\n",
    "- 전반적으로 나이그룹 1.5가 클릭율이 높은 편인데, 8번이랑 95번의 지면에서는 낮았다. \n",
    "- 95번, 31번 41번의 지면에서는 특히 나이그룹 6~7.5가 매우 높은 편\n",
    "\n",
    "### 🚨 inventory_id 21의 100% CTR:\n",
    "- 샘플 수가 매우 적을 가능성 높음\n",
    "- 검증 데이터에서 급격한 성능 하락 위험\n",
    "- 최소 샘플 수 임계값 설정 필요"
   ]
  },
  {
   "cell_type": "code",
   "execution_count": 76,
   "id": "970a3df8",
   "metadata": {},
   "outputs": [
    {
     "name": "stdout",
     "output_type": "stream",
     "text": [
      "신뢰할 수 있는 조합: 120개\n"
     ]
    }
   ],
   "source": [
    "# 조합별 샘플 수 확인 필수\n",
    "combo_stats = train.groupby(['age_group', 'inventory_id']).agg({\n",
    "    'clicked': ['count', 'mean', 'std']\n",
    "})\n",
    "\n",
    "# 신뢰할 수 없는 조합 필터링\n",
    "reliable_combos = combo_stats[combo_stats[('clicked', 'count')] >= 100]\n",
    "print(f\"신뢰할 수 있는 조합: {len(reliable_combos)}개\")"
   ]
  },
  {
   "cell_type": "markdown",
   "id": "0d2ef9d6",
   "metadata": {},
   "source": [
    "# 시간 패턴 분석"
   ]
  },
  {
   "cell_type": "code",
   "execution_count": 78,
   "id": "16885a1b",
   "metadata": {},
   "outputs": [
    {
     "data": {
      "text/plain": [
       "0         NaN\n",
       "1         NaN\n",
       "2         NaN\n",
       "3         NaN\n",
       "4         NaN\n",
       "           ..\n",
       "2041785   NaN\n",
       "2041786   NaN\n",
       "2041787   NaN\n",
       "2041788   NaN\n",
       "2041789   NaN\n",
       "Name: seq, Length: 2038190, dtype: float64"
      ]
     },
     "execution_count": 78,
     "metadata": {},
     "output_type": "execute_result"
    }
   ],
   "source": [
    "train['seq']"
   ]
  },
  {
   "cell_type": "markdown",
   "id": "89e84e3e",
   "metadata": {},
   "source": []
  }
 ],
 "metadata": {
  "kernelspec": {
   "display_name": "toss-ml-venv",
   "language": "python",
   "name": "python3"
  },
  "language_info": {
   "codemirror_mode": {
    "name": "ipython",
    "version": 3
   },
   "file_extension": ".py",
   "mimetype": "text/x-python",
   "name": "python",
   "nbconvert_exporter": "python",
   "pygments_lexer": "ipython3",
   "version": "3.10.13"
  }
 },
 "nbformat": 4,
 "nbformat_minor": 5
}
